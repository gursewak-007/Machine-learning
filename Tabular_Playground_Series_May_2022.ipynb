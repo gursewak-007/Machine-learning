{
  "cells": [
    {
      "cell_type": "markdown",
      "metadata": {
        "id": "view-in-github",
        "colab_type": "text"
      },
      "source": [
        "<a href=\"https://colab.research.google.com/github/gursewak-007/Machine-learning/blob/main/Tabular_Playground_Series_May_2022.ipynb\" target=\"_parent\"><img src=\"https://colab.research.google.com/assets/colab-badge.svg\" alt=\"Open In Colab\"/></a>"
      ]
    },
    {
      "cell_type": "code",
      "execution_count": 1,
      "metadata": {
        "colab": {
          "base_uri": "https://localhost:8080/"
        },
        "id": "fbx3gqcZ91Ym",
        "outputId": "2812d38d-3ce6-40fa-d65c-7b17bb204485"
      },
      "outputs": [
        {
          "output_type": "stream",
          "name": "stdout",
          "text": [
            "Linux b6481a2ce975 5.4.188+ #1 SMP Sun Apr 24 10:03:06 PDT 2022 x86_64 x86_64 x86_64 GNU/Linux\n"
          ]
        }
      ],
      "source": [
        "# 235\n",
        "!uname -a "
      ]
    },
    {
      "cell_type": "code",
      "execution_count": 1,
      "metadata": {
        "id": "Ba_RSzmaY_7O"
      },
      "outputs": [],
      "source": [
        "%tensorflow_version 2.x\n",
        "import tensorflow as tf\n",
        "import timeit\n",
        "\n",
        "device_name = tf.test.gpu_device_name()\n",
        "if device_name != '/device:GPU:0':\n",
        "  print(\n",
        "      '\\n\\nThis error most likely means that this notebook is not '\n",
        "      'configured to use a GPU.  Change this in Notebook Settings via the '\n",
        "      'command palette (cmd/ctrl-shift-P) or the Edit menu.\\n\\n')\n",
        "  raise SystemError('GPU device not found')\n"
      ]
    },
    {
      "cell_type": "markdown",
      "metadata": {
        "id": "L_OP1WCY-Gfu"
      },
      "source": [
        "#downloading datast"
      ]
    },
    {
      "cell_type": "code",
      "execution_count": 2,
      "metadata": {
        "id": "LuF3EV8Z-QMR"
      },
      "outputs": [],
      "source": [
        "from google.colab import files"
      ]
    },
    {
      "cell_type": "code",
      "execution_count": 3,
      "metadata": {
        "colab": {
          "base_uri": "https://localhost:8080/"
        },
        "id": "VtUY9MRN-Oc3",
        "outputId": "2d0c823c-d5ff-4fb1-8433-6336f8a47d9e"
      },
      "outputs": [
        {
          "output_type": "stream",
          "name": "stdout",
          "text": [
            "sample_data\n"
          ]
        }
      ],
      "source": [
        "! ls"
      ]
    },
    {
      "cell_type": "code",
      "execution_count": 4,
      "metadata": {
        "colab": {
          "base_uri": "https://localhost:8080/",
          "height": 91,
          "resources": {
            "http://localhost:8080/nbextensions/google.colab/files.js": {
              "data": "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",
              "headers": [
                [
                  "content-type",
                  "application/javascript"
                ]
              ],
              "ok": true,
              "status": 200,
              "status_text": ""
            }
          }
        },
        "id": "8EfVjIIa-WWy",
        "outputId": "3edf8af3-9d93-4646-de84-3cea94c3bf00"
      },
      "outputs": [
        {
          "output_type": "display_data",
          "data": {
            "text/plain": [
              "<IPython.core.display.HTML object>"
            ],
            "text/html": [
              "\n",
              "     <input type=\"file\" id=\"files-f04e4810-7033-4f68-83b1-63e9848261de\" name=\"files[]\" multiple disabled\n",
              "        style=\"border:none\" />\n",
              "     <output id=\"result-f04e4810-7033-4f68-83b1-63e9848261de\">\n",
              "      Upload widget is only available when the cell has been executed in the\n",
              "      current browser session. Please rerun this cell to enable.\n",
              "      </output>\n",
              "      <script src=\"/nbextensions/google.colab/files.js\"></script> "
            ]
          },
          "metadata": {}
        },
        {
          "output_type": "stream",
          "name": "stdout",
          "text": [
            "Saving kaggle.json to kaggle.json\n"
          ]
        },
        {
          "output_type": "execute_result",
          "data": {
            "text/plain": [
              "{'kaggle.json': b'{\"username\":\"gursewaksingh01\",\"key\":\"776f6bbe0f89a0479aa66163b94208db\"}'}"
            ]
          },
          "metadata": {},
          "execution_count": 4
        }
      ],
      "source": [
        "files.upload()"
      ]
    },
    {
      "cell_type": "code",
      "execution_count": 5,
      "metadata": {
        "id": "pluMYIX0-a37"
      },
      "outputs": [],
      "source": [
        "! mkdir /root/.kaggle\n",
        "! cp kaggle.json ~/.kaggle/\n",
        "! chmod 600 ~/.kaggle/kaggle.json"
      ]
    },
    {
      "cell_type": "code",
      "execution_count": 6,
      "metadata": {
        "colab": {
          "base_uri": "https://localhost:8080/"
        },
        "id": "kZ6Z0uLZ-y2E",
        "outputId": "28470662-2e26-4c67-b3de-705db245c639"
      },
      "outputs": [
        {
          "output_type": "stream",
          "name": "stdout",
          "text": [
            "Downloading tabular-playground-series-may-2022.zip to /content\n",
            " 98% 252M/257M [00:02<00:00, 118MB/s] \n",
            "100% 257M/257M [00:02<00:00, 123MB/s]\n",
            "Archive:  tabular-playground-series-may-2022.zip\n",
            "  inflating: sample_submission.csv   \n",
            "  inflating: test.csv                \n",
            "  inflating: train.csv               \n"
          ]
        }
      ],
      "source": [
        "!kaggle competitions download -c tabular-playground-series-may-2022\n",
        "\n",
        "! unzip tabular-playground-series-may-2022.zip"
      ]
    },
    {
      "cell_type": "markdown",
      "metadata": {
        "id": "D3sOGm39-9aQ"
      },
      "source": [
        "#loading data and preprocessing"
      ]
    },
    {
      "cell_type": "code",
      "execution_count": 7,
      "metadata": {
        "id": "GxDcJ94y_BDf"
      },
      "outputs": [],
      "source": [
        "import pandas as pd\n",
        "import numpy as np\n",
        "import scipy.stats\n",
        "import matplotlib.pyplot as plt\n",
        "from tabulate import tabulate"
      ]
    },
    {
      "cell_type": "code",
      "execution_count": 8,
      "metadata": {
        "id": "EZtx4uGJ_PfL"
      },
      "outputs": [],
      "source": [
        "# Reading the raw data\n",
        "train_raw = pd.read_csv('train.csv')\n",
        "test_raw = pd.read_csv('test.csv')"
      ]
    },
    {
      "cell_type": "code",
      "source": [
        "train=train_raw.copy()\n",
        "test=test_raw.copy()"
      ],
      "metadata": {
        "id": "Bg7ZQG4itekW"
      },
      "execution_count": 9,
      "outputs": []
    },
    {
      "cell_type": "code",
      "execution_count": 10,
      "metadata": {
        "id": "51bdWwXRBmOC"
      },
      "outputs": [],
      "source": [
        "train.drop(['id'],axis=1,inplace=True)\n",
        "test.drop(['id'],axis=1,inplace=True)"
      ]
    },
    {
      "cell_type": "code",
      "execution_count": 11,
      "metadata": {
        "colab": {
          "base_uri": "https://localhost:8080/"
        },
        "id": "kyok-B8SAOyK",
        "outputId": "e011ab70-c4a1-45bd-9811-213f7bfd79f7"
      },
      "outputs": [
        {
          "output_type": "execute_result",
          "data": {
            "text/plain": [
              "((900000, 32), (700000, 31))"
            ]
          },
          "metadata": {},
          "execution_count": 11
        }
      ],
      "source": [
        "train.shape,test.shape"
      ]
    },
    {
      "cell_type": "code",
      "execution_count": 30,
      "metadata": {
        "colab": {
          "base_uri": "https://localhost:8080/",
          "height": 299
        },
        "id": "JDRiCkVn_WrZ",
        "outputId": "032f9919-24ea-4400-c524-1f509914cff2"
      },
      "outputs": [
        {
          "output_type": "execute_result",
          "data": {
            "text/plain": [
              "   id      f_00      f_01      f_02      f_03      f_04      f_05      f_06  \\\n",
              "0   0 -1.373246  0.238887 -0.243376  0.567405 -0.647715  0.839326  0.113133   \n",
              "1   1  1.697021 -1.710322 -2.230332 -0.545661  1.113173 -1.552175  0.447825   \n",
              "2   2  1.681726  0.616746 -1.027689  0.810492 -0.609086  0.113965 -0.708660   \n",
              "3   3 -0.118172 -0.587835 -0.804638  2.086822  0.371005 -0.128831 -0.282575   \n",
              "4   4  1.148481 -0.176567 -0.664871 -1.101343  0.467875  0.500117  0.407515   \n",
              "\n",
              "   f_07  f_08  ...      f_22      f_23      f_24      f_25      f_26  \\\n",
              "0     1     5  ... -2.540739  0.766952 -2.730628 -0.208177  1.363402   \n",
              "1     1     3  ...  2.278315 -0.633658 -1.217077 -3.782194 -0.058316   \n",
              "2     1     0  ... -1.385775 -0.520558 -0.009121  2.788536 -3.703488   \n",
              "3     3     2  ...  0.572594 -1.653213  1.686035 -2.533098 -0.608601   \n",
              "4     3     3  ... -3.912929 -1.430366  2.127649 -3.306784  4.371371   \n",
              "\n",
              "         f_27        f_28  f_29  f_30  target  \n",
              "0  ABABDADBAB   67.609153     0     0       0  \n",
              "1  ACACCADCEB  377.096415     0     0       1  \n",
              "2  AAAEABCKAD -195.599702     0     2       1  \n",
              "3  BDBBAACBCB  210.826205     0     0       1  \n",
              "4  BDBCBBCHFE -217.211798     0     1       1  \n",
              "\n",
              "[5 rows x 33 columns]"
            ],
            "text/html": [
              "\n",
              "  <div id=\"df-00e29d94-9936-4e1d-9966-367aae644804\">\n",
              "    <div class=\"colab-df-container\">\n",
              "      <div>\n",
              "<style scoped>\n",
              "    .dataframe tbody tr th:only-of-type {\n",
              "        vertical-align: middle;\n",
              "    }\n",
              "\n",
              "    .dataframe tbody tr th {\n",
              "        vertical-align: top;\n",
              "    }\n",
              "\n",
              "    .dataframe thead th {\n",
              "        text-align: right;\n",
              "    }\n",
              "</style>\n",
              "<table border=\"1\" class=\"dataframe\">\n",
              "  <thead>\n",
              "    <tr style=\"text-align: right;\">\n",
              "      <th></th>\n",
              "      <th>id</th>\n",
              "      <th>f_00</th>\n",
              "      <th>f_01</th>\n",
              "      <th>f_02</th>\n",
              "      <th>f_03</th>\n",
              "      <th>f_04</th>\n",
              "      <th>f_05</th>\n",
              "      <th>f_06</th>\n",
              "      <th>f_07</th>\n",
              "      <th>f_08</th>\n",
              "      <th>...</th>\n",
              "      <th>f_22</th>\n",
              "      <th>f_23</th>\n",
              "      <th>f_24</th>\n",
              "      <th>f_25</th>\n",
              "      <th>f_26</th>\n",
              "      <th>f_27</th>\n",
              "      <th>f_28</th>\n",
              "      <th>f_29</th>\n",
              "      <th>f_30</th>\n",
              "      <th>target</th>\n",
              "    </tr>\n",
              "  </thead>\n",
              "  <tbody>\n",
              "    <tr>\n",
              "      <th>0</th>\n",
              "      <td>0</td>\n",
              "      <td>-1.373246</td>\n",
              "      <td>0.238887</td>\n",
              "      <td>-0.243376</td>\n",
              "      <td>0.567405</td>\n",
              "      <td>-0.647715</td>\n",
              "      <td>0.839326</td>\n",
              "      <td>0.113133</td>\n",
              "      <td>1</td>\n",
              "      <td>5</td>\n",
              "      <td>...</td>\n",
              "      <td>-2.540739</td>\n",
              "      <td>0.766952</td>\n",
              "      <td>-2.730628</td>\n",
              "      <td>-0.208177</td>\n",
              "      <td>1.363402</td>\n",
              "      <td>ABABDADBAB</td>\n",
              "      <td>67.609153</td>\n",
              "      <td>0</td>\n",
              "      <td>0</td>\n",
              "      <td>0</td>\n",
              "    </tr>\n",
              "    <tr>\n",
              "      <th>1</th>\n",
              "      <td>1</td>\n",
              "      <td>1.697021</td>\n",
              "      <td>-1.710322</td>\n",
              "      <td>-2.230332</td>\n",
              "      <td>-0.545661</td>\n",
              "      <td>1.113173</td>\n",
              "      <td>-1.552175</td>\n",
              "      <td>0.447825</td>\n",
              "      <td>1</td>\n",
              "      <td>3</td>\n",
              "      <td>...</td>\n",
              "      <td>2.278315</td>\n",
              "      <td>-0.633658</td>\n",
              "      <td>-1.217077</td>\n",
              "      <td>-3.782194</td>\n",
              "      <td>-0.058316</td>\n",
              "      <td>ACACCADCEB</td>\n",
              "      <td>377.096415</td>\n",
              "      <td>0</td>\n",
              "      <td>0</td>\n",
              "      <td>1</td>\n",
              "    </tr>\n",
              "    <tr>\n",
              "      <th>2</th>\n",
              "      <td>2</td>\n",
              "      <td>1.681726</td>\n",
              "      <td>0.616746</td>\n",
              "      <td>-1.027689</td>\n",
              "      <td>0.810492</td>\n",
              "      <td>-0.609086</td>\n",
              "      <td>0.113965</td>\n",
              "      <td>-0.708660</td>\n",
              "      <td>1</td>\n",
              "      <td>0</td>\n",
              "      <td>...</td>\n",
              "      <td>-1.385775</td>\n",
              "      <td>-0.520558</td>\n",
              "      <td>-0.009121</td>\n",
              "      <td>2.788536</td>\n",
              "      <td>-3.703488</td>\n",
              "      <td>AAAEABCKAD</td>\n",
              "      <td>-195.599702</td>\n",
              "      <td>0</td>\n",
              "      <td>2</td>\n",
              "      <td>1</td>\n",
              "    </tr>\n",
              "    <tr>\n",
              "      <th>3</th>\n",
              "      <td>3</td>\n",
              "      <td>-0.118172</td>\n",
              "      <td>-0.587835</td>\n",
              "      <td>-0.804638</td>\n",
              "      <td>2.086822</td>\n",
              "      <td>0.371005</td>\n",
              "      <td>-0.128831</td>\n",
              "      <td>-0.282575</td>\n",
              "      <td>3</td>\n",
              "      <td>2</td>\n",
              "      <td>...</td>\n",
              "      <td>0.572594</td>\n",
              "      <td>-1.653213</td>\n",
              "      <td>1.686035</td>\n",
              "      <td>-2.533098</td>\n",
              "      <td>-0.608601</td>\n",
              "      <td>BDBBAACBCB</td>\n",
              "      <td>210.826205</td>\n",
              "      <td>0</td>\n",
              "      <td>0</td>\n",
              "      <td>1</td>\n",
              "    </tr>\n",
              "    <tr>\n",
              "      <th>4</th>\n",
              "      <td>4</td>\n",
              "      <td>1.148481</td>\n",
              "      <td>-0.176567</td>\n",
              "      <td>-0.664871</td>\n",
              "      <td>-1.101343</td>\n",
              "      <td>0.467875</td>\n",
              "      <td>0.500117</td>\n",
              "      <td>0.407515</td>\n",
              "      <td>3</td>\n",
              "      <td>3</td>\n",
              "      <td>...</td>\n",
              "      <td>-3.912929</td>\n",
              "      <td>-1.430366</td>\n",
              "      <td>2.127649</td>\n",
              "      <td>-3.306784</td>\n",
              "      <td>4.371371</td>\n",
              "      <td>BDBCBBCHFE</td>\n",
              "      <td>-217.211798</td>\n",
              "      <td>0</td>\n",
              "      <td>1</td>\n",
              "      <td>1</td>\n",
              "    </tr>\n",
              "  </tbody>\n",
              "</table>\n",
              "<p>5 rows × 33 columns</p>\n",
              "</div>\n",
              "      <button class=\"colab-df-convert\" onclick=\"convertToInteractive('df-00e29d94-9936-4e1d-9966-367aae644804')\"\n",
              "              title=\"Convert this dataframe to an interactive table.\"\n",
              "              style=\"display:none;\">\n",
              "        \n",
              "  <svg xmlns=\"http://www.w3.org/2000/svg\" height=\"24px\"viewBox=\"0 0 24 24\"\n",
              "       width=\"24px\">\n",
              "    <path d=\"M0 0h24v24H0V0z\" fill=\"none\"/>\n",
              "    <path d=\"M18.56 5.44l.94 2.06.94-2.06 2.06-.94-2.06-.94-.94-2.06-.94 2.06-2.06.94zm-11 1L8.5 8.5l.94-2.06 2.06-.94-2.06-.94L8.5 2.5l-.94 2.06-2.06.94zm10 10l.94 2.06.94-2.06 2.06-.94-2.06-.94-.94-2.06-.94 2.06-2.06.94z\"/><path d=\"M17.41 7.96l-1.37-1.37c-.4-.4-.92-.59-1.43-.59-.52 0-1.04.2-1.43.59L10.3 9.45l-7.72 7.72c-.78.78-.78 2.05 0 2.83L4 21.41c.39.39.9.59 1.41.59.51 0 1.02-.2 1.41-.59l7.78-7.78 2.81-2.81c.8-.78.8-2.07 0-2.86zM5.41 20L4 18.59l7.72-7.72 1.47 1.35L5.41 20z\"/>\n",
              "  </svg>\n",
              "      </button>\n",
              "      \n",
              "  <style>\n",
              "    .colab-df-container {\n",
              "      display:flex;\n",
              "      flex-wrap:wrap;\n",
              "      gap: 12px;\n",
              "    }\n",
              "\n",
              "    .colab-df-convert {\n",
              "      background-color: #E8F0FE;\n",
              "      border: none;\n",
              "      border-radius: 50%;\n",
              "      cursor: pointer;\n",
              "      display: none;\n",
              "      fill: #1967D2;\n",
              "      height: 32px;\n",
              "      padding: 0 0 0 0;\n",
              "      width: 32px;\n",
              "    }\n",
              "\n",
              "    .colab-df-convert:hover {\n",
              "      background-color: #E2EBFA;\n",
              "      box-shadow: 0px 1px 2px rgba(60, 64, 67, 0.3), 0px 1px 3px 1px rgba(60, 64, 67, 0.15);\n",
              "      fill: #174EA6;\n",
              "    }\n",
              "\n",
              "    [theme=dark] .colab-df-convert {\n",
              "      background-color: #3B4455;\n",
              "      fill: #D2E3FC;\n",
              "    }\n",
              "\n",
              "    [theme=dark] .colab-df-convert:hover {\n",
              "      background-color: #434B5C;\n",
              "      box-shadow: 0px 1px 3px 1px rgba(0, 0, 0, 0.15);\n",
              "      filter: drop-shadow(0px 1px 2px rgba(0, 0, 0, 0.3));\n",
              "      fill: #FFFFFF;\n",
              "    }\n",
              "  </style>\n",
              "\n",
              "      <script>\n",
              "        const buttonEl =\n",
              "          document.querySelector('#df-00e29d94-9936-4e1d-9966-367aae644804 button.colab-df-convert');\n",
              "        buttonEl.style.display =\n",
              "          google.colab.kernel.accessAllowed ? 'block' : 'none';\n",
              "\n",
              "        async function convertToInteractive(key) {\n",
              "          const element = document.querySelector('#df-00e29d94-9936-4e1d-9966-367aae644804');\n",
              "          const dataTable =\n",
              "            await google.colab.kernel.invokeFunction('convertToInteractive',\n",
              "                                                     [key], {});\n",
              "          if (!dataTable) return;\n",
              "\n",
              "          const docLinkHtml = 'Like what you see? Visit the ' +\n",
              "            '<a target=\"_blank\" href=https://colab.research.google.com/notebooks/data_table.ipynb>data table notebook</a>'\n",
              "            + ' to learn more about interactive tables.';\n",
              "          element.innerHTML = '';\n",
              "          dataTable['output_type'] = 'display_data';\n",
              "          await google.colab.output.renderOutput(dataTable, element);\n",
              "          const docLink = document.createElement('div');\n",
              "          docLink.innerHTML = docLinkHtml;\n",
              "          element.appendChild(docLink);\n",
              "        }\n",
              "      </script>\n",
              "    </div>\n",
              "  </div>\n",
              "  "
            ]
          },
          "metadata": {},
          "execution_count": 30
        }
      ],
      "source": [
        "train.head()"
      ]
    },
    {
      "cell_type": "code",
      "source": [
        "print(tabulate(train.head(), headers = 'keys', tablefmt = 'pretty'))"
      ],
      "metadata": {
        "colab": {
          "base_uri": "https://localhost:8080/"
        },
        "id": "VATmELGe-dj9",
        "outputId": "660af9c1-38e0-4cd2-80fe-0f5a38c5d03d"
      },
      "execution_count": 44,
      "outputs": [
        {
          "output_type": "stream",
          "name": "stdout",
          "text": [
            "+---+---------------------+---------------------+---------------------+---------------------+---------------------+---------------------+---------------------+------+------+------+------+------+------+------+------+------+------+------+------+---------------------+---------------------+---------------------+---------------------+---------------------+---------------------+---------------------+---------------------+------------+---------------------+------+------+--------+\n",
            "|   |        f_00         |        f_01         |        f_02         |        f_03         |        f_04         |        f_05         |        f_06         | f_07 | f_08 | f_09 | f_10 | f_11 | f_12 | f_13 | f_14 | f_15 | f_16 | f_17 | f_18 |        f_19         |        f_20         |        f_21         |        f_22         |        f_23         |        f_24         |        f_25         |        f_26         |    f_27    |        f_28         | f_29 | f_30 | target |\n",
            "+---+---------------------+---------------------+---------------------+---------------------+---------------------+---------------------+---------------------+------+------+------+------+------+------+------+------+------+------+------+------+---------------------+---------------------+---------------------+---------------------+---------------------+---------------------+---------------------+---------------------+------------+---------------------+------+------+--------+\n",
            "| 0 | -1.3732464047725104 | 0.2388873032099414  | -0.243376127030362  | 0.5674048947734351  | -0.6477146211280456 | 0.8393264522690496  | 0.1131328529032999  |  1   |  5   |  1   |  3   |  3   |  3   |  1   |  6   |  1   |  0   |  7   |  4   | 0.2982180414431934  | -0.9197167887395312 |  3.058540946896171  | -2.5407388748740427 | 0.7669520032525932  | -2.7306282330928697 | -0.2081774526126452 | 1.3634024035642385  | ABABDADBAB |  67.60915349123779  |  0   |  0   |   0    |\n",
            "| 1 | 1.6970205763459036  | -1.7103224412821365 | -2.230332451927924  | -0.5456607755370599 | 1.1131725401245518  | -1.552174704222795  | 0.4478252952236292  |  1   |  3   |  4   |  0   |  2   |  3   |  0   |  1   |  0   |  4   |  6   |  0   | -3.1476670028255627 | -1.0754343248228595 | 2.1790500380926945  | 2.2783149059699435  | -0.6336582890691911 | -1.2170771231029698 | -3.782194149331882  | -0.0583159446705583 | ACACCADCEB |  377.0964152172434  |  0   |  0   |   1    |\n",
            "| 2 | 1.6817256138602974  | 0.6167456464941524  | -1.0276892023284296 | 0.8104918918238112  | -0.6090864021210863 | 0.1139651238831264  | -0.7086596446252569 |  1   |  0   |  2   |  6   |  6   |  4   |  3   |  1   |  2   |  2   |  1   |  4   | 2.8207329403241053  | -3.485342209887265  | -0.7842351817779584 | -1.385775046941712  | -0.5205578123675291 | -0.0091214480693553 |  2.788535892152451  | -3.7034879965561416 | AAAEABCKAD | -195.59970187670044 |  0   |  2   |   1    |\n",
            "| 3 | -0.1181717833431876 | -0.5878347547233473 | -0.8046375380282556 |  2.086822140526704  | 0.3710054632699693  | -0.1288310468607892 | -0.2825753970757034 |  3   |  2   |  1   |  0   |  1   |  6   |  4   |  2   |  3   |  3   |  0   |  3   |  1.081083607670331  | -2.100177458258365  | -2.3438189096628217 | 0.5725940671505725  | -1.653212855492865  |  1.686034841906387  | -2.5330978342122137 | -0.6086007679698762 | BDBBAACBCB |  210.8262054325293  |  0   |  0   |   1    |\n",
            "| 4 | 1.1484814402043058  | -0.1765667682204472 | -0.6648714744982077 | -1.1013430212328654 | 0.4678753685958041  | 0.5001171803404797  | 0.4075153456778485  |  3   |  3   |  0   |  4   |  3   |  0   |  6   |  0   |  3   |  3   |  1   |  0   | -0.1261789053637112 | 0.6050331523661288  | 1.1336652910331906  | -3.9129291495692575 | -1.430366130360556  |  2.127648735411773  | -3.306784306091453  |  4.371371056282756  | BDBCBBCHFE | -217.2117976569481  |  0   |  1   |   1    |\n",
            "+---+---------------------+---------------------+---------------------+---------------------+---------------------+---------------------+---------------------+------+------+------+------+------+------+------+------+------+------+------+------+---------------------+---------------------+---------------------+---------------------+---------------------+---------------------+---------------------+---------------------+------------+---------------------+------+------+--------+\n"
          ]
        }
      ]
    },
    {
      "cell_type": "code",
      "source": [
        "print(tabulate(test.head(), headers = 'keys', tablefmt = 'pretty'))"
      ],
      "metadata": {
        "colab": {
          "base_uri": "https://localhost:8080/"
        },
        "id": "uXaUsYeD89gs",
        "outputId": "3da9a1c1-61dc-41a7-92b9-578014ec5bde"
      },
      "execution_count": 32,
      "outputs": [
        {
          "output_type": "stream",
          "name": "stdout",
          "text": [
            "+---+--------+---------------------+---------------------+---------------------+---------------------+---------------------+---------------------+---------------------+------+------+------+------+------+------+------+------+------+------+------+------+---------------------+---------------------+---------------------+---------------------+---------------------+---------------------+---------------------+--------------------+------------+--------------------+------+------+\n",
            "|   |   id   |        f_00         |        f_01         |        f_02         |        f_03         |        f_04         |        f_05         |        f_06         | f_07 | f_08 | f_09 | f_10 | f_11 | f_12 | f_13 | f_14 | f_15 | f_16 | f_17 | f_18 |        f_19         |        f_20         |        f_21         |        f_22         |        f_23         |        f_24         |        f_25         |        f_26        |    f_27    |        f_28        | f_29 | f_30 |\n",
            "+---+--------+---------------------+---------------------+---------------------+---------------------+---------------------+---------------------+---------------------+------+------+------+------+------+------+------+------+------+------+------+------+---------------------+---------------------+---------------------+---------------------+---------------------+---------------------+---------------------+--------------------+------------+--------------------+------+------+\n",
            "| 0 | 900000 |  0.442516886627715  | 0.1743802351867242  | -0.999815925028144  | 0.7627410124844665  | 0.1867784283242546  | -1.0747748959700705 | 0.5018875202893259  |  6   |  6   |  0   |  0   |  0   |  5   |  1   |  1   |  2   |  2   |  0   |  1   | -1.1283706275159433 |  2.749346528294057  |  -1.00640046222483  | -1.1938790936054509 | -2.4357359486508425 | -2.427429893799212  | -1.9668869757954872 | 5.734204529162352  | BAAABADLAC | 99.47841931371794  |  0   |  0   |\n",
            "| 1 | 900001 | -0.6055975559289236 | -0.3057145086427723 | 0.6276672529823338  | -0.5788975631456657 | -1.750930955532192  |  1.35555045115923   | -0.1909108874978747 |  1   |  3   |  4   |  0   |  2   |  1   |  3   |  0   |  0   |  0   |  2   |  0   | -4.424097506506864  | 1.0807623671662665  |  2.382404957609704  | 0.1494420470210007  | 1.8833219540303008  | -2.8487142353099983 | -0.7251547495586002 | 3.1942187501501844 | AFABBAEGCB | -65.9938254557953  |  1   |  0   |\n",
            "| 2 | 900002 | 0.3039897259397808  |   2.4451102406763   | 0.2465145388607363  |  0.818248335498784  | 0.3597305379361723  | -1.3318454439318643 |  1.358622286773638  |  3   |  3   |  4   |  1   |  1   |  3   |  2   |  2   |  4   |  1   |  0   |  3   | -1.5238636815654625 | -1.4067120334277194 | -7.026098322749295  | 1.3122774802878938  | -5.157192295384471  | 1.7140049317342267  | 0.5850323531102226  | 0.0668979762264194 | BBACABBKEE |  -87.405621994051  |  0   |  1   |\n",
            "| 3 | 900003 | 0.1540526489765704  | 0.2601255480550793  | -1.3670915912975872 | -0.0931754874315859 | -1.111033676380985  | -0.9484812085352567 | 1.1192200547536633  |  0   |  0   |  4   |  2   |  1   |  5   |  0   |  3   |  3   |  1   |  4   |  2   | -1.4045969787347716 |  3.011084890484982  | -0.5945320292868008 | -3.939475382456026  | 1.7545701873621564  | -2.3640067400128624 | -1.003320055361444  | 3.893099184667484  | AEBEAACQCC | -281.2934595816031 |  0   |  0   |\n",
            "| 4 | 900004 | -1.6519043277763896 | -0.4242661633502753 | -0.6673564003879463 | -0.3221242936877518 | -0.0894619528990069 | 0.1817050526888005  |  1.784983033084237  |  2   |  2   |  2   |  0   |  0   |  3   |  0   |  1   |  2   |  0   |  2   |  2   |  -1.96851564606984  | 0.1005941767308045  | 0.0849058508172098  | -0.9857362645706792 | -0.1304673420353239 | -3.557893477012982  |  1.210686724732726  | 1.861884217005314  | AEBBBBDABF | 25.629415260841657 |  0   |  2   |\n",
            "+---+--------+---------------------+---------------------+---------------------+---------------------+---------------------+---------------------+---------------------+------+------+------+------+------+------+------+------+------+------+------+------+---------------------+---------------------+---------------------+---------------------+---------------------+---------------------+---------------------+--------------------+------------+--------------------+------+------+\n"
          ]
        }
      ]
    },
    {
      "cell_type": "code",
      "source": [
        "def count_chars(df, field):\n",
        "    '''\n",
        "    Describes something...\n",
        "    '''\n",
        "    \n",
        "    for i in range(10):\n",
        "        df[f'ch_{i}'] = df[field].str.get(i).apply(ord) - ord('A')\n",
        "        \n",
        "    df[\"unique_characters\"] = df[field].apply(lambda s: len(set(s)))\n",
        "    return df"
      ],
      "metadata": {
        "id": "LGsZFgV5xnnb"
      },
      "execution_count": 11,
      "outputs": []
    },
    {
      "cell_type": "code",
      "source": [
        "train = count_chars(train, 'f_27')\n",
        "test = count_chars(test, 'f_27')"
      ],
      "metadata": {
        "id": "dW-1-QGzxsWu"
      },
      "execution_count": 12,
      "outputs": []
    },
    {
      "cell_type": "code",
      "source": [
        "print(tabulate(train.head(), headers = 'keys', tablefmt = 'pretty'))\n"
      ],
      "metadata": {
        "colab": {
          "base_uri": "https://localhost:8080/"
        },
        "id": "vyX74m3dxY0v",
        "outputId": "62412373-ee08-4b35-df28-f2c35c430d00"
      },
      "execution_count": 47,
      "outputs": [
        {
          "output_type": "stream",
          "name": "stdout",
          "text": [
            "+---+---------------------+---------------------+---------------------+---------------------+---------------------+---------------------+---------------------+------+------+------+------+------+------+------+------+------+------+------+------+---------------------+---------------------+---------------------+---------------------+---------------------+---------------------+---------------------+---------------------+------------+---------------------+------+------+--------+------+------+------+------+------+------+------+------+------+------+-------------------+\n",
            "|   |        f_00         |        f_01         |        f_02         |        f_03         |        f_04         |        f_05         |        f_06         | f_07 | f_08 | f_09 | f_10 | f_11 | f_12 | f_13 | f_14 | f_15 | f_16 | f_17 | f_18 |        f_19         |        f_20         |        f_21         |        f_22         |        f_23         |        f_24         |        f_25         |        f_26         |    f_27    |        f_28         | f_29 | f_30 | target | ch_0 | ch_1 | ch_2 | ch_3 | ch_4 | ch_5 | ch_6 | ch_7 | ch_8 | ch_9 | unique_characters |\n",
            "+---+---------------------+---------------------+---------------------+---------------------+---------------------+---------------------+---------------------+------+------+------+------+------+------+------+------+------+------+------+------+---------------------+---------------------+---------------------+---------------------+---------------------+---------------------+---------------------+---------------------+------------+---------------------+------+------+--------+------+------+------+------+------+------+------+------+------+------+-------------------+\n",
            "| 0 | -1.3732464047725104 | 0.2388873032099414  | -0.243376127030362  | 0.5674048947734351  | -0.6477146211280456 | 0.8393264522690496  | 0.1131328529032999  |  1   |  5   |  1   |  3   |  3   |  3   |  1   |  6   |  1   |  0   |  7   |  4   | 0.2982180414431934  | -0.9197167887395312 |  3.058540946896171  | -2.5407388748740427 | 0.7669520032525932  | -2.7306282330928697 | -0.2081774526126452 | 1.3634024035642385  | ABABDADBAB |  67.60915349123779  |  0   |  0   |   0    |  0   |  1   |  0   |  1   |  3   |  0   |  3   |  1   |  0   |  1   |         3         |\n",
            "| 1 | 1.6970205763459036  | -1.7103224412821365 | -2.230332451927924  | -0.5456607755370599 | 1.1131725401245518  | -1.552174704222795  | 0.4478252952236292  |  1   |  3   |  4   |  0   |  2   |  3   |  0   |  1   |  0   |  4   |  6   |  0   | -3.1476670028255627 | -1.0754343248228595 | 2.1790500380926945  | 2.2783149059699435  | -0.6336582890691911 | -1.2170771231029698 | -3.782194149331882  | -0.0583159446705583 | ACACCADCEB |  377.0964152172434  |  0   |  0   |   1    |  0   |  2   |  0   |  2   |  2   |  0   |  3   |  2   |  4   |  1   |         5         |\n",
            "| 2 | 1.6817256138602974  | 0.6167456464941524  | -1.0276892023284296 | 0.8104918918238112  | -0.6090864021210863 | 0.1139651238831264  | -0.7086596446252569 |  1   |  0   |  2   |  6   |  6   |  4   |  3   |  1   |  2   |  2   |  1   |  4   | 2.8207329403241053  | -3.485342209887265  | -0.7842351817779584 | -1.385775046941712  | -0.5205578123675291 | -0.0091214480693553 |  2.788535892152451  | -3.7034879965561416 | AAAEABCKAD | -195.59970187670044 |  0   |  2   |   1    |  0   |  0   |  0   |  4   |  0   |  1   |  2   |  10  |  0   |  3   |         6         |\n",
            "| 3 | -0.1181717833431876 | -0.5878347547233473 | -0.8046375380282556 |  2.086822140526704  | 0.3710054632699693  | -0.1288310468607892 | -0.2825753970757034 |  3   |  2   |  1   |  0   |  1   |  6   |  4   |  2   |  3   |  3   |  0   |  3   |  1.081083607670331  | -2.100177458258365  | -2.3438189096628217 | 0.5725940671505725  | -1.653212855492865  |  1.686034841906387  | -2.5330978342122137 | -0.6086007679698762 | BDBBAACBCB |  210.8262054325293  |  0   |  0   |   1    |  1   |  3   |  1   |  1   |  0   |  0   |  2   |  1   |  2   |  1   |         4         |\n",
            "| 4 | 1.1484814402043058  | -0.1765667682204472 | -0.6648714744982077 | -1.1013430212328654 | 0.4678753685958041  | 0.5001171803404797  | 0.4075153456778485  |  3   |  3   |  0   |  4   |  3   |  0   |  6   |  0   |  3   |  3   |  1   |  0   | -0.1261789053637112 | 0.6050331523661288  | 1.1336652910331906  | -3.9129291495692575 | -1.430366130360556  |  2.127648735411773  | -3.306784306091453  |  4.371371056282756  | BDBCBBCHFE | -217.2117976569481  |  0   |  1   |   1    |  1   |  3   |  1   |  2   |  1   |  1   |  2   |  7   |  5   |  4   |         6         |\n",
            "+---+---------------------+---------------------+---------------------+---------------------+---------------------+---------------------+---------------------+------+------+------+------+------+------+------+------+------+------+------+------+---------------------+---------------------+---------------------+---------------------+---------------------+---------------------+---------------------+---------------------+------------+---------------------+------+------+--------+------+------+------+------+------+------+------+------+------+------+-------------------+\n"
          ]
        }
      ]
    },
    {
      "cell_type": "code",
      "source": [
        "ax=plt.subplot()\n",
        "ax.hist(train['f27_cat'], bins=9, linewidth=0.5, edgecolor=\"white\")\n",
        "# ax.set(xlim=(28,30), xticks=np.arange(28,30))\n",
        "plt.show()"
      ],
      "metadata": {
        "colab": {
          "base_uri": "https://localhost:8080/",
          "height": 265
        },
        "id": "hx6Y5YscPfBN",
        "outputId": "cb75a457-4d46-4991-9144-ac2b92453fd6"
      },
      "execution_count": 75,
      "outputs": [
        {
          "output_type": "display_data",
          "data": {
            "text/plain": [
              "<Figure size 432x288 with 1 Axes>"
            ],
            "image/png": "[encoded data removed]"
          },
          "metadata": {
            "needs_background": "light"
          }
        }
      ]
    },
    {
      "cell_type": "code",
      "source": [
        "from sklearn.preprocessing import StandardScaler"
      ],
      "metadata": {
        "id": "4XEBdo5ns9m1"
      },
      "execution_count": 13,
      "outputs": []
    },
    {
      "cell_type": "code",
      "source": [
        "f=[]\n",
        "for i in range(19,29):\n",
        "  if i !=27:\n",
        "    f.append(f'f_{i}')"
      ],
      "metadata": {
        "id": "TN6-f0aVN8Rq"
      },
      "execution_count": 14,
      "outputs": []
    },
    {
      "cell_type": "code",
      "source": [
        "ss=StandardScaler()\n",
        "train[f]=ss.fit_transform(train[f])\n",
        "test[f]=ss.fit_transform(test[f])\n"
      ],
      "metadata": {
        "id": "7KqO6duXtNie"
      },
      "execution_count": 15,
      "outputs": []
    },
    {
      "cell_type": "code",
      "execution_count": 16,
      "metadata": {
        "id": "4UtTxIqrDpn5"
      },
      "outputs": [],
      "source": [
        "train['f_27'] = train['f_27'].astype('category')\n",
        "train[\"f27_cat\"] = train['f_27'].cat.codes\n",
        "train.drop(['f_27'],axis=1,inplace=True)"
      ]
    },
    {
      "cell_type": "code",
      "execution_count": 17,
      "metadata": {
        "id": "3VJauTU1EA11"
      },
      "outputs": [],
      "source": [
        "test['f_27'] = test['f_27'].astype('category')\n",
        "test[\"f27_cat\"] = test['f_27'].cat.codes\n",
        "test.drop(['f_27'],axis=1,inplace=True)"
      ]
    },
    {
      "cell_type": "code",
      "source": [
        "# train['f_mean'] = train.mean(axis=1)\n",
        "# train['f_std'] = train.std(axis=1)\n",
        "# train['f_iqr'] = scipy.stats.iqr(train, axis=1)\n",
        "# train['f_sm'] = np.nan_to_num(train['f_std'] / \n",
        "#                                         train['f_mean'].abs()).clip(-1e30, 1e30)\n",
        "# train['f_kurtosis'] = scipy.stats.kurtosis(train, axis=1)\n",
        "# test['f_mean'] = test.mean(axis=1)\n",
        "# test['f_std'] = test.std(axis=1)\n",
        "# test['f_iqr'] = scipy.stats.iqr(test, axis=1)\n",
        "# test['f_sm'] = np.nan_to_num(test['f_std'] / \n",
        "#                                         test['f_mean'].abs()).clip(-1e30, 1e30)\n",
        "# test['f_kurtosis'] = scipy.stats.kurtosis(test, axis=1)"
      ],
      "metadata": {
        "id": "3Kmld1sMEn_F"
      },
      "execution_count": 54,
      "outputs": []
    },
    {
      "cell_type": "markdown",
      "metadata": {
        "id": "smiKnTu4rdf-"
      },
      "source": [
        "##split and scale train"
      ]
    },
    {
      "cell_type": "code",
      "execution_count": 18,
      "metadata": {
        "id": "69LsGslPrtgc"
      },
      "outputs": [],
      "source": [
        "from sklearn.model_selection import train_test_split\n",
        "from sklearn.preprocessing import MinMaxScaler\n"
      ]
    },
    {
      "cell_type": "code",
      "execution_count": 19,
      "metadata": {
        "id": "M0mSdmZWrtgd"
      },
      "outputs": [],
      "source": [
        "df=train.copy()"
      ]
    },
    {
      "cell_type": "code",
      "execution_count": 20,
      "metadata": {
        "id": "53d5wvxmrtge"
      },
      "outputs": [],
      "source": [
        "x = df.drop(['target'], axis=1)\n",
        "# y=df['target']\n",
        "y = pd.get_dummies(df['target']).values\n",
        "#split the features and labels into  train and test data\n",
        "x_train, x_test, y_train, y_test = train_test_split(x, y, test_size=0.2, random_state=1)\n",
        "#rescale the data to be robust to outliers\n",
        "# scaler = RobustScaler()\n",
        "scaler = MinMaxScaler()\n",
        "scaler.fit(x_train)\n",
        "x_train = scaler.transform(x_train)\n",
        "x_test = scaler.transform(x_test)"
      ]
    },
    {
      "cell_type": "markdown",
      "metadata": {
        "id": "s5OJ_rC_rlrU"
      },
      "source": [
        "#building model and predicting"
      ]
    },
    {
      "cell_type": "code",
      "execution_count": 21,
      "metadata": {
        "id": "HR1EEH4gsDDl"
      },
      "outputs": [],
      "source": [
        "from tensorflow import keras\n",
        "from tensorflow.keras import Sequential\n",
        "from tensorflow.keras import layers\n",
        "from tensorflow.keras.layers import Dense,Dropout\n",
        "from keras import backend as K\n",
        "import joblib\n",
        "from sklearn.metrics import classification_report\n"
      ]
    },
    {
      "cell_type": "code",
      "execution_count": 47,
      "metadata": {
        "id": "PWNiaKMVP4OC"
      },
      "outputs": [],
      "source": [
        "class Callback(tf.keras.callbacks.Callback):\n",
        "    SHOW_NUMBER = 100\n",
        "    epoch = 1\n",
        "    def __init__(self, threshold):\n",
        "        super(Callback, self).__init__()\n",
        "        self.threshold = threshold\n",
        "        \n",
        "    def on_epoch_begin(self, epoch, logs=None):\n",
        "        self.epoch = epoch\n",
        "\n",
        "#     def on_train_batch_end(self, batch, logs=None):\n",
        "    def on_epoch_end(self, epoch, logs=None):\n",
        "        val_acc = logs[\"val_auc\"]\n",
        "        if val_acc >= self.threshold:\n",
        "            print('Epoch: ' + str(epoch) + ' loss: ' + str(logs['loss'])+' accuracy: ' + str(logs['auc'])+' val_accuracy: ' + str(logs['val_auc']))\n",
        "            self.model.stop_training = True\n",
        "        if epoch%self.SHOW_NUMBER==0 or self.epoch == 1 or self.epoch == 4999:\n",
        "            print('Epoch: ' + str(epoch) + ' loss: ' + str(logs['loss'])+' accuracy: ' + str(logs['auc'])+' val_accuracy: ' + str(logs['val_auc']))\n",
        "#             print('Epoch: ' + str(self.epoch) + ' loss: ' + str(logs['loss'])+' accuracy: ' + str(logs['accuracy']))\n"
      ]
    },
    {
      "cell_type": "code",
      "execution_count": 27,
      "metadata": {
        "colab": {
          "base_uri": "https://localhost:8080/"
        },
        "id": "vTV9bM8-sWjc",
        "outputId": "3dcce728-a9d9-4e91-81d8-e1b35e6aa6e6"
      },
      "outputs": [
        {
          "output_type": "execute_result",
          "data": {
            "text/plain": [
              "(720000, 42)"
            ]
          },
          "metadata": {},
          "execution_count": 27
        }
      ],
      "source": [
        "x_train.shape"
      ]
    },
    {
      "cell_type": "code",
      "execution_count": 28,
      "metadata": {
        "colab": {
          "base_uri": "https://localhost:8080/"
        },
        "id": "4vjnEFAnsQZ9",
        "outputId": "708fcdd4-84b6-4093-cc44-0fe92a89e938"
      },
      "outputs": [
        {
          "output_type": "stream",
          "name": "stdout",
          "text": [
            "Model: \"sequential_1\"\n",
            "_________________________________________________________________\n",
            " Layer (type)                Output Shape              Param #   \n",
            "=================================================================\n",
            " dense_4 (Dense)             (None, 400)               17200     \n",
            "                                                                 \n",
            " dense_5 (Dense)             (None, 400)               160400    \n",
            "                                                                 \n",
            " dropout_1 (Dropout)         (None, 400)               0         \n",
            "                                                                 \n",
            " dense_6 (Dense)             (None, 200)               80200     \n",
            "                                                                 \n",
            " dense_7 (Dense)             (None, 2)                 402       \n",
            "                                                                 \n",
            "=================================================================\n",
            "Total params: 258,202\n",
            "Trainable params: 258,202\n",
            "Non-trainable params: 0\n",
            "_________________________________________________________________\n"
          ]
        }
      ],
      "source": [
        "model=Sequential([\n",
        "    Dense(400,input_shape=(42,),activation=\"relu\"),\n",
        "    Dense(400,activation='relu'),\n",
        "    Dropout(0.5),\n",
        "    Dense(200,activation='relu'),\n",
        "    Dense(2,activation='sigmoid'),\n",
        "])\n",
        "model.summary()"
      ]
    },
    {
      "cell_type": "code",
      "execution_count": 48,
      "metadata": {
        "id": "5R_t9g6es3kA"
      },
      "outputs": [],
      "source": [
        "my_callback = Callback(threshold=0.97)\n",
        "# call_back = tf.keras.callbacks.ModelCheckpoint(\"Model.h5\", monitor='val_auc',verbose=1,save_best_only=True)\n",
        "model.compile(optimizer=keras.optimizers.SGD(learning_rate=0.1,momentum=0.1),loss='log_cosh',metrics='AUC')"
      ]
    },
    {
      "cell_type": "code",
      "execution_count": 49,
      "metadata": {
        "colab": {
          "base_uri": "https://localhost:8080/"
        },
        "id": "RKnZ4rjGtXjx",
        "outputId": "b53750a9-bce5-481e-87ad-78059e1db95e"
      },
      "outputs": [
        {
          "output_type": "stream",
          "name": "stdout",
          "text": [
            "Epoch: 0 loss: 0.033375613391399384 accuracy: 0.9600768089294434 val_accuracy: 0.9607856869697571\n",
            "Epoch: 1 loss: 0.033196788281202316 accuracy: 0.9603650569915771 val_accuracy: 0.961118221282959\n",
            "Epoch: 100 loss: 0.0319744348526001 accuracy: 0.9628826379776001 val_accuracy: 0.9637573957443237\n",
            "Epoch: 200 loss: 0.029305249452590942 accuracy: 0.9676250219345093 val_accuracy: 0.9675472974777222\n",
            "Epoch: 229 loss: 0.02933499775826931 accuracy: 0.9675798416137695 val_accuracy: 0.9701541662216187\n"
          ]
        }
      ],
      "source": [
        "with tf.device('/device:GPU:0'):\n",
        "  model.fit(x_train,y_train,batch_size=10240,epochs=1000,validation_split=0.2,verbose=0,callbacks=[my_callback])"
      ]
    },
    {
      "cell_type": "code",
      "execution_count": 53,
      "metadata": {
        "colab": {
          "base_uri": "https://localhost:8080/",
          "height": 34
        },
        "id": "ekSQRptR-aol",
        "outputId": "d7b34f1c-e8a9-4162-c5d1-fa6daddfb3fb"
      },
      "outputs": [
        {
          "output_type": "stream",
          "name": "stdout",
          "text": [
            "INFO:tensorflow:Assets written to: ram://f61f7e5f-d55b-4a24-a180-e716daf30248/assets\n"
          ]
        },
        {
          "output_type": "display_data",
          "data": {
            "text/plain": [
              "<IPython.core.display.Javascript object>"
            ],
            "application/javascript": [
              "\n",
              "    async function download(id, filename, size) {\n",
              "      if (!google.colab.kernel.accessAllowed) {\n",
              "        return;\n",
              "      }\n",
              "      const div = document.createElement('div');\n",
              "      const label = document.createElement('label');\n",
              "      label.textContent = `Downloading \"${filename}\": `;\n",
              "      div.appendChild(label);\n",
              "      const progress = document.createElement('progress');\n",
              "      progress.max = size;\n",
              "      div.appendChild(progress);\n",
              "      document.body.appendChild(div);\n",
              "\n",
              "      const buffers = [];\n",
              "      let downloaded = 0;\n",
              "\n",
              "      const channel = await google.colab.kernel.comms.open(id);\n",
              "      // Send a message to notify the kernel that we're ready.\n",
              "      channel.send({})\n",
              "\n",
              "      for await (const message of channel.messages) {\n",
              "        // Send a message to notify the kernel that we're ready.\n",
              "        channel.send({})\n",
              "        if (message.buffers) {\n",
              "          for (const buffer of message.buffers) {\n",
              "            buffers.push(buffer);\n",
              "            downloaded += buffer.byteLength;\n",
              "            progress.value = downloaded;\n",
              "          }\n",
              "        }\n",
              "      }\n",
              "      const blob = new Blob(buffers, {type: 'application/binary'});\n",
              "      const a = document.createElement('a');\n",
              "      a.href = window.URL.createObjectURL(blob);\n",
              "      a.download = filename;\n",
              "      div.appendChild(a);\n",
              "      a.click();\n",
              "      div.remove();\n",
              "    }\n",
              "  "
            ]
          },
          "metadata": {}
        },
        {
          "output_type": "display_data",
          "data": {
            "text/plain": [
              "<IPython.core.display.Javascript object>"
            ],
            "application/javascript": [
              "download(\"download_9ca23bec-2b5c-4732-8657-6d8f7dc31700\", \"new92.pkl\", 2201885)"
            ]
          },
          "metadata": {}
        }
      ],
      "source": [
        "joblib.dump(model,'new92.pkl')\n",
        "files.download('new92.pkl')\n"
      ]
    },
    {
      "cell_type": "code",
      "execution_count": 51,
      "metadata": {
        "id": "sNWKaIrTwMdM"
      },
      "outputs": [],
      "source": [
        "pred=model.predict(x_test)"
      ]
    },
    {
      "cell_type": "code",
      "execution_count": 50,
      "metadata": {
        "colab": {
          "base_uri": "https://localhost:8080/"
        },
        "id": "-HGg-VN3wMdM",
        "outputId": "c86a96d8-89f2-459a-ff07-182eaa513c92"
      },
      "outputs": [
        {
          "output_type": "stream",
          "name": "stdout",
          "text": [
            "5625/5625 [==============================] - 20s 3ms/step - loss: 0.0280 - auc: 0.9698\n"
          ]
        }
      ],
      "source": [
        "with tf.device('/device:GPU:0'):\n",
        "  model.evaluate(x_test,y_test)"
      ]
    },
    {
      "cell_type": "code",
      "execution_count": 52,
      "metadata": {
        "colab": {
          "base_uri": "https://localhost:8080/"
        },
        "id": "ik-z5kn-wnoq",
        "outputId": "0c07982d-34b1-4fbf-dd44-175f88a16eb2"
      },
      "outputs": [
        {
          "output_type": "stream",
          "name": "stdout",
          "text": [
            "              precision    recall  f1-score   support\n",
            "\n",
            "           0       0.91      0.94      0.92     92452\n",
            "           1       0.93      0.90      0.92     87548\n",
            "\n",
            "    accuracy                           0.92    180000\n",
            "   macro avg       0.92      0.92      0.92    180000\n",
            "weighted avg       0.92      0.92      0.92    180000\n",
            "\n"
          ]
        }
      ],
      "source": [
        "print(classification_report(np.argmax(y_test,axis=1),np.argmax(pred,axis=1)))"
      ]
    },
    {
      "cell_type": "code",
      "execution_count": null,
      "metadata": {
        "id": "SadwI7Zc-13J"
      },
      "outputs": [],
      "source": [
        "model=joblib.load('new8898.pkl')"
      ]
    },
    {
      "cell_type": "code",
      "execution_count": null,
      "metadata": {
        "colab": {
          "base_uri": "https://localhost:8080/"
        },
        "id": "fZS3GORkzRPB",
        "outputId": "d216d8be-b037-4301-9e7a-8af4581dd3d1"
      },
      "outputs": [
        {
          "name": "stdout",
          "output_type": "stream",
          "text": [
            "kaggle.json  sample_submission.csv\t\t     train.csv\n",
            "new8898.pkl  tabular-playground-series-may-2022.zip\n",
            "sample_data  test.csv\n"
          ]
        }
      ],
      "source": [
        "!ls"
      ]
    },
    {
      "cell_type": "code",
      "execution_count": null,
      "metadata": {
        "colab": {
          "base_uri": "https://localhost:8080/",
          "height": 121
        },
        "id": "GZJXyzQqwMdN",
        "outputId": "84913c76-d824-465c-ae0e-bb59537b0e69"
      },
      "outputs": [
        {
          "data": {
            "text/plain": [
              "array([0, 1, 1, 0, 0, 0, 0, 1, 0, 1, 1, 0, 1, 1, 1, 1, 0, 1, 0, 1, 1, 0,\n",
              "       0, 0, 1, 0, 0, 1, 0, 1, 0, 0, 0, 0, 0, 0, 0, 0, 0, 1, 1, 0, 0, 0,\n",
              "       0, 0, 0, 0, 1, 0, 1, 0, 0, 0, 1, 0, 1, 1, 0, 0, 1, 1, 1, 0, 1, 0,\n",
              "       0, 0, 0, 1, 1, 0, 1, 1, 0, 1, 1, 1, 0, 0, 0, 1, 1, 1, 1, 1, 0, 0,\n",
              "       0, 0, 0, 0, 1, 0, 0, 0, 0, 0, 0, 1, 0, 1, 1, 0, 0, 1, 1, 1, 1, 0,\n",
              "       1, 1, 0, 1, 1, 1, 1, 1, 0, 1])"
            ]
          },
          "metadata": {},
          "output_type": "display_data"
        }
      ],
      "source": [
        "display(np.argmax(y_test,axis=1))"
      ]
    },
    {
      "cell_type": "code",
      "execution_count": null,
      "metadata": {
        "colab": {
          "base_uri": "https://localhost:8080/",
          "height": 121
        },
        "id": "P9orJQ2FwMdN",
        "outputId": "23d5c2c0-2406-4c3f-ca03-aafc728627f2"
      },
      "outputs": [
        {
          "data": {
            "text/plain": [
              "array([0, 0, 0, 0, 0, 0, 0, 1, 0, 1, 1, 0, 0, 1, 1, 1, 0, 1, 0, 1, 1, 0,\n",
              "       0, 0, 1, 0, 0, 0, 0, 1, 0, 1, 0, 1, 0, 0, 0, 0, 0, 1, 1, 0, 0, 1,\n",
              "       0, 0, 0, 1, 1, 0, 1, 0, 0, 1, 0, 0, 1, 1, 0, 0, 1, 1, 1, 0, 1, 0,\n",
              "       0, 0, 0, 1, 1, 0, 1, 1, 1, 1, 1, 1, 0, 0, 0, 1, 0, 1, 1, 1, 0, 0,\n",
              "       1, 0, 0, 0, 1, 0, 0, 1, 0, 0, 0, 1, 0, 1, 0, 1, 0, 1, 1, 1, 1, 0,\n",
              "       0, 1, 0, 1, 1, 1, 1, 1, 0, 1])"
            ]
          },
          "metadata": {},
          "output_type": "display_data"
        }
      ],
      "source": [
        "display(np.argmax(pred,axis=1))"
      ]
    },
    {
      "cell_type": "markdown",
      "metadata": {
        "id": "bVK_YigSu3KE"
      },
      "source": [
        "##xgboost"
      ]
    },
    {
      "cell_type": "code",
      "execution_count": null,
      "metadata": {
        "id": "m3fc466lvAJS"
      },
      "outputs": [],
      "source": [
        ""
      ]
    },
    {
      "cell_type": "code",
      "execution_count": null,
      "metadata": {
        "id": "S1QEUYQ-qlki"
      },
      "outputs": [],
      "source": [
        "import xgboost\n",
        "r=xgboost.XGBClassifier(learning_rate=0.05, max_depth=10, min_child_weight=4,\n",
        "             n_estimator=500)"
      ]
    },
    {
      "cell_type": "code",
      "execution_count": null,
      "metadata": {
        "colab": {
          "base_uri": "https://localhost:8080/"
        },
        "id": "OlDX0iZ_qqFe",
        "outputId": "c4d47c63-de2a-414a-a256-39d5e6a7585f"
      },
      "outputs": [
        {
          "data": {
            "text/plain": [
              "XGBClassifier(learning_rate=0.05, max_depth=10, min_child_weight=4,\n",
              "              n_estimator=500)"
            ]
          },
          "execution_count": 73,
          "metadata": {},
          "output_type": "execute_result"
        }
      ],
      "source": [
        "r.fit(x_train,y_train)"
      ]
    },
    {
      "cell_type": "code",
      "execution_count": null,
      "metadata": {
        "id": "dftB6XparFKr"
      },
      "outputs": [],
      "source": [
        "rpred=r.predict(x_test)"
      ]
    },
    {
      "cell_type": "markdown",
      "metadata": {
        "id": "-wRCXcoDHjPb"
      },
      "source": [
        "##predicting for test dataset "
      ]
    },
    {
      "cell_type": "code",
      "execution_count": null,
      "metadata": {
        "id": "vz--RRRSHqPv"
      },
      "outputs": [],
      "source": [
        "scaler.fit(test)\n",
        "test0 = scaler.transform(test)"
      ]
    },
    {
      "cell_type": "code",
      "execution_count": null,
      "metadata": {
        "id": "GT3VPRQbIIPg"
      },
      "outputs": [],
      "source": [
        "pred0=model.predict(test0)"
      ]
    },
    {
      "cell_type": "code",
      "execution_count": null,
      "metadata": {
        "id": "Cme4pp1YIUHz"
      },
      "outputs": [],
      "source": [
        "pred0=np.argmax(pred0,axis=1)"
      ]
    },
    {
      "cell_type": "code",
      "execution_count": null,
      "metadata": {
        "id": "lS4HROCPIRFF"
      },
      "outputs": [],
      "source": [
        "#Create Sample Submission file and Submit using ANN\n",
        "pred=pd.DataFrame(pred0)\n",
        "sub_train=pd.read_csv('sample_submission.csv')\n",
        "datasets=pd.concat([sub_train['id'],pred],axis=1)\n",
        "datasets.columns=['id','target']\n",
        "datasets.to_csv('sample_submission.csv',index=False)"
      ]
    },
    {
      "cell_type": "code",
      "execution_count": null,
      "metadata": {
        "colab": {
          "base_uri": "https://localhost:8080/"
        },
        "id": "gwNaAl66cGaR",
        "outputId": "9f470542-057d-49c6-de9a-be16a634d1ea"
      },
      "outputs": [
        {
          "name": "stdout",
          "output_type": "stream",
          "text": [
            "100% 6.58M/6.58M [00:01<00:00, 5.87MB/s]\n",
            "Successfully submitted to Tabular Playground Series - May 2022"
          ]
        }
      ],
      "source": [
        "! kaggle competitions submit -c tabular-playground-series-may-2022 -f sample_submission.csv -m \"Message\""
      ]
    },
    {
      "cell_type": "code",
      "execution_count": null,
      "metadata": {
        "colab": {
          "base_uri": "https://localhost:8080/",
          "height": 17
        },
        "id": "sKhSdVKYKLdT",
        "outputId": "56181f19-61e5-43c1-e2eb-bf5485ae609c"
      },
      "outputs": [
        {
          "data": {
            "application/javascript": [
              "\n",
              "    async function download(id, filename, size) {\n",
              "      if (!google.colab.kernel.accessAllowed) {\n",
              "        return;\n",
              "      }\n",
              "      const div = document.createElement('div');\n",
              "      const label = document.createElement('label');\n",
              "      label.textContent = `Downloading \"${filename}\": `;\n",
              "      div.appendChild(label);\n",
              "      const progress = document.createElement('progress');\n",
              "      progress.max = size;\n",
              "      div.appendChild(progress);\n",
              "      document.body.appendChild(div);\n",
              "\n",
              "      const buffers = [];\n",
              "      let downloaded = 0;\n",
              "\n",
              "      const channel = await google.colab.kernel.comms.open(id);\n",
              "      // Send a message to notify the kernel that we're ready.\n",
              "      channel.send({})\n",
              "\n",
              "      for await (const message of channel.messages) {\n",
              "        // Send a message to notify the kernel that we're ready.\n",
              "        channel.send({})\n",
              "        if (message.buffers) {\n",
              "          for (const buffer of message.buffers) {\n",
              "            buffers.push(buffer);\n",
              "            downloaded += buffer.byteLength;\n",
              "            progress.value = downloaded;\n",
              "          }\n",
              "        }\n",
              "      }\n",
              "      const blob = new Blob(buffers, {type: 'application/binary'});\n",
              "      const a = document.createElement('a');\n",
              "      a.href = window.URL.createObjectURL(blob);\n",
              "      a.download = filename;\n",
              "      div.appendChild(a);\n",
              "      a.click();\n",
              "      div.remove();\n",
              "    }\n",
              "  "
            ],
            "text/plain": [
              "<IPython.core.display.Javascript object>"
            ]
          },
          "metadata": {},
          "output_type": "display_data"
        },
        {
          "data": {
            "application/javascript": [
              "download(\"download_47a0067e-4bfc-497c-89fa-45f513a7953d\", \"new83.pkl\", 368925)"
            ],
            "text/plain": [
              "<IPython.core.display.Javascript object>"
            ]
          },
          "metadata": {},
          "output_type": "display_data"
        }
      ],
      "source": [
        "files.download('sample_submission.csv')"
      ]
    },
    {
      "cell_type": "code",
      "execution_count": null,
      "metadata": {
        "id": "CxalrNuku1mL"
      },
      "outputs": [],
      "source": [
        ""
      ]
    }
  ],
  "metadata": {
    "accelerator": "GPU",
    "colab": {
      "collapsed_sections": [
        "bVK_YigSu3KE"
      ],
      "name": "Tabular Playground Series - May 2022.ipynb",
      "provenance": [],
      "authorship_tag": "ABX9TyOQSkKuLqnEQXn0FoenMuCS",
      "include_colab_link": true
    },
    "kernelspec": {
      "display_name": "Python 3",
      "name": "python3"
    },
    "language_info": {
      "name": "python"
    }
  },
  "nbformat": 4,
  "nbformat_minor": 0
}