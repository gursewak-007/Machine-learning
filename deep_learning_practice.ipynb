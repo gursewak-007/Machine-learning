{
  "nbformat": 4,
  "nbformat_minor": 0,
  "metadata": {
    "colab": {
      "name": "deep learning practice.ipynb",
      "provenance": [],
      "collapsed_sections": [
        "KO3QkUJOmxAT",
        "c2ZYBKmJtN-h",
        "SdBFDZEUuscW",
        "smiKnTu4rdf-"
      ],
      "authorship_tag": "ABX9TyOFXOhzYQFOFtpSfx81PJMm",
      "include_colab_link": true
    },
    "kernelspec": {
      "name": "python3",
      "display_name": "Python 3"
    },
    "language_info": {
      "name": "python"
    }
  },
  "cells": [
    {
      "cell_type": "markdown",
      "metadata": {
        "id": "view-in-github",
        "colab_type": "text"
      },
      "source": [
        "<a href=\"https://colab.research.google.com/github/gursewak-007/Machine-learning/blob/main/deep_learning_practice.ipynb\" target=\"_parent\"><img src=\"https://colab.research.google.com/assets/colab-badge.svg\" alt=\"Open In Colab\"/></a>"
      ]
    },
    {
      "cell_type": "code",
      "source": [
        "!uname -a"
      ],
      "metadata": {
        "id": "Vq5olmerk1Pi",
        "colab": {
          "base_uri": "https://localhost:8080/"
        },
        "outputId": "b2c9060a-d53f-4f2c-d094-9520527bc80c"
      },
      "execution_count": null,
      "outputs": [
        {
          "output_type": "stream",
          "name": "stdout",
          "text": [
            "Linux 0a99a71066b4 5.4.188+ #1 SMP Sun Apr 24 10:03:06 PDT 2022 x86_64 x86_64 x86_64 GNU/Linux\n"
          ]
        }
      ]
    },
    {
      "cell_type": "markdown",
      "source": [
        "#iris dataset "
      ],
      "metadata": {
        "id": "KO3QkUJOmxAT"
      }
    },
    {
      "cell_type": "markdown",
      "source": [
        "##data import"
      ],
      "metadata": {
        "id": "c2ZYBKmJtN-h"
      }
    },
    {
      "cell_type": "code",
      "source": [
        "from google.colab import files\n",
        "import pandas as pd\n"
      ],
      "metadata": {
        "id": "G58eCKm-tVTZ"
      },
      "execution_count": null,
      "outputs": []
    },
    {
      "cell_type": "code",
      "source": [
        "files.upload()"
      ],
      "metadata": {
        "id": "bLHdJSjrt_br"
      },
      "execution_count": null,
      "outputs": []
    },
    {
      "cell_type": "code",
      "source": [
        "!ls"
      ],
      "metadata": {
        "colab": {
          "base_uri": "https://localhost:8080/"
        },
        "id": "JJdW1NuuuRVu",
        "outputId": "e54b1d00-8357-43c8-e0dd-1d1d49fd2e55"
      },
      "execution_count": null,
      "outputs": [
        {
          "output_type": "stream",
          "name": "stdout",
          "text": [
            "Iris.csv  sample_data\n"
          ]
        }
      ]
    },
    {
      "cell_type": "code",
      "source": [
        "dataset=pd.read_csv('Iris.csv')"
      ],
      "metadata": {
        "id": "3q_IWMzHuHV5"
      },
      "execution_count": null,
      "outputs": []
    },
    {
      "cell_type": "markdown",
      "source": [
        "##dataset preprocessing"
      ],
      "metadata": {
        "id": "SdBFDZEUuscW"
      }
    },
    {
      "cell_type": "code",
      "source": [
        "%tensorflow_version 2.x\n",
        "import tensorflow as tf\n",
        "print(tf.version)"
      ],
      "metadata": {
        "colab": {
          "base_uri": "https://localhost:8080/"
        },
        "id": "FXCcd21wuqoX",
        "outputId": "07d7636a-c760-4f6a-ddec-8a069912aece"
      },
      "execution_count": null,
      "outputs": [
        {
          "output_type": "stream",
          "name": "stdout",
          "text": [
            "<module 'tensorflow._api.v2.version' from '/usr/local/lib/python3.7/dist-packages/tensorflow/_api/v2/version/__init__.py'>\n"
          ]
        }
      ]
    },
    {
      "cell_type": "code",
      "source": [
        "import numpy as np\n",
        "import matplotlib.pyplot as plt"
      ],
      "metadata": {
        "id": "OzZJcWyPu50B"
      },
      "execution_count": null,
      "outputs": []
    },
    {
      "cell_type": "code",
      "source": [
        "dataset.drop([\"Id\"],axis=1,inplace=True)"
      ],
      "metadata": {
        "id": "y3yXT1E1vg2-"
      },
      "execution_count": null,
      "outputs": []
    },
    {
      "cell_type": "code",
      "source": [
        "display(dataset)"
      ],
      "metadata": {
        "colab": {
          "base_uri": "https://localhost:8080/",
          "height": 424
        },
        "id": "gBJ4CbWPvGZC",
        "outputId": "220ccb93-aae3-4337-ae29-52768b8d74e0"
      },
      "execution_count": null,
      "outputs": [
        {
          "output_type": "display_data",
          "data": {
            "text/plain": [
              "     SepalLengthCm  SepalWidthCm  PetalLengthCm  PetalWidthCm         Species\n",
              "0              5.1           3.5            1.4           0.2     Iris-setosa\n",
              "1              4.9           3.0            1.4           0.2     Iris-setosa\n",
              "2              4.7           3.2            1.3           0.2     Iris-setosa\n",
              "3              4.6           3.1            1.5           0.2     Iris-setosa\n",
              "4              5.0           3.6            1.4           0.2     Iris-setosa\n",
              "..             ...           ...            ...           ...             ...\n",
              "145            6.7           3.0            5.2           2.3  Iris-virginica\n",
              "146            6.3           2.5            5.0           1.9  Iris-virginica\n",
              "147            6.5           3.0            5.2           2.0  Iris-virginica\n",
              "148            6.2           3.4            5.4           2.3  Iris-virginica\n",
              "149            5.9           3.0            5.1           1.8  Iris-virginica\n",
              "\n",
              "[150 rows x 5 columns]"
            ],
            "text/html": [
              "\n",
              "  <div id=\"df-6c539906-9294-409d-8b60-1f89c49e3465\">\n",
              "    <div class=\"colab-df-container\">\n",
              "      <div>\n",
              "<style scoped>\n",
              "    .dataframe tbody tr th:only-of-type {\n",
              "        vertical-align: middle;\n",
              "    }\n",
              "\n",
              "    .dataframe tbody tr th {\n",
              "        vertical-align: top;\n",
              "    }\n",
              "\n",
              "    .dataframe thead th {\n",
              "        text-align: right;\n",
              "    }\n",
              "</style>\n",
              "<table border=\"1\" class=\"dataframe\">\n",
              "  <thead>\n",
              "    <tr style=\"text-align: right;\">\n",
              "      <th></th>\n",
              "      <th>SepalLengthCm</th>\n",
              "      <th>SepalWidthCm</th>\n",
              "      <th>PetalLengthCm</th>\n",
              "      <th>PetalWidthCm</th>\n",
              "      <th>Species</th>\n",
              "    </tr>\n",
              "  </thead>\n",
              "  <tbody>\n",
              "    <tr>\n",
              "      <th>0</th>\n",
              "      <td>5.1</td>\n",
              "      <td>3.5</td>\n",
              "      <td>1.4</td>\n",
              "      <td>0.2</td>\n",
              "      <td>Iris-setosa</td>\n",
              "    </tr>\n",
              "    <tr>\n",
              "      <th>1</th>\n",
              "      <td>4.9</td>\n",
              "      <td>3.0</td>\n",
              "      <td>1.4</td>\n",
              "      <td>0.2</td>\n",
              "      <td>Iris-setosa</td>\n",
              "    </tr>\n",
              "    <tr>\n",
              "      <th>2</th>\n",
              "      <td>4.7</td>\n",
              "      <td>3.2</td>\n",
              "      <td>1.3</td>\n",
              "      <td>0.2</td>\n",
              "      <td>Iris-setosa</td>\n",
              "    </tr>\n",
              "    <tr>\n",
              "      <th>3</th>\n",
              "      <td>4.6</td>\n",
              "      <td>3.1</td>\n",
              "      <td>1.5</td>\n",
              "      <td>0.2</td>\n",
              "      <td>Iris-setosa</td>\n",
              "    </tr>\n",
              "    <tr>\n",
              "      <th>4</th>\n",
              "      <td>5.0</td>\n",
              "      <td>3.6</td>\n",
              "      <td>1.4</td>\n",
              "      <td>0.2</td>\n",
              "      <td>Iris-setosa</td>\n",
              "    </tr>\n",
              "    <tr>\n",
              "      <th>...</th>\n",
              "      <td>...</td>\n",
              "      <td>...</td>\n",
              "      <td>...</td>\n",
              "      <td>...</td>\n",
              "      <td>...</td>\n",
              "    </tr>\n",
              "    <tr>\n",
              "      <th>145</th>\n",
              "      <td>6.7</td>\n",
              "      <td>3.0</td>\n",
              "      <td>5.2</td>\n",
              "      <td>2.3</td>\n",
              "      <td>Iris-virginica</td>\n",
              "    </tr>\n",
              "    <tr>\n",
              "      <th>146</th>\n",
              "      <td>6.3</td>\n",
              "      <td>2.5</td>\n",
              "      <td>5.0</td>\n",
              "      <td>1.9</td>\n",
              "      <td>Iris-virginica</td>\n",
              "    </tr>\n",
              "    <tr>\n",
              "      <th>147</th>\n",
              "      <td>6.5</td>\n",
              "      <td>3.0</td>\n",
              "      <td>5.2</td>\n",
              "      <td>2.0</td>\n",
              "      <td>Iris-virginica</td>\n",
              "    </tr>\n",
              "    <tr>\n",
              "      <th>148</th>\n",
              "      <td>6.2</td>\n",
              "      <td>3.4</td>\n",
              "      <td>5.4</td>\n",
              "      <td>2.3</td>\n",
              "      <td>Iris-virginica</td>\n",
              "    </tr>\n",
              "    <tr>\n",
              "      <th>149</th>\n",
              "      <td>5.9</td>\n",
              "      <td>3.0</td>\n",
              "      <td>5.1</td>\n",
              "      <td>1.8</td>\n",
              "      <td>Iris-virginica</td>\n",
              "    </tr>\n",
              "  </tbody>\n",
              "</table>\n",
              "<p>150 rows × 5 columns</p>\n",
              "</div>\n",
              "      <button class=\"colab-df-convert\" onclick=\"convertToInteractive('df-6c539906-9294-409d-8b60-1f89c49e3465')\"\n",
              "              title=\"Convert this dataframe to an interactive table.\"\n",
              "              style=\"display:none;\">\n",
              "        \n",
              "  <svg xmlns=\"http://www.w3.org/2000/svg\" height=\"24px\"viewBox=\"0 0 24 24\"\n",
              "       width=\"24px\">\n",
              "    <path d=\"M0 0h24v24H0V0z\" fill=\"none\"/>\n",
              "    <path d=\"M18.56 5.44l.94 2.06.94-2.06 2.06-.94-2.06-.94-.94-2.06-.94 2.06-2.06.94zm-11 1L8.5 8.5l.94-2.06 2.06-.94-2.06-.94L8.5 2.5l-.94 2.06-2.06.94zm10 10l.94 2.06.94-2.06 2.06-.94-2.06-.94-.94-2.06-.94 2.06-2.06.94z\"/><path d=\"M17.41 7.96l-1.37-1.37c-.4-.4-.92-.59-1.43-.59-.52 0-1.04.2-1.43.59L10.3 9.45l-7.72 7.72c-.78.78-.78 2.05 0 2.83L4 21.41c.39.39.9.59 1.41.59.51 0 1.02-.2 1.41-.59l7.78-7.78 2.81-2.81c.8-.78.8-2.07 0-2.86zM5.41 20L4 18.59l7.72-7.72 1.47 1.35L5.41 20z\"/>\n",
              "  </svg>\n",
              "      </button>\n",
              "      \n",
              "  <style>\n",
              "    .colab-df-container {\n",
              "      display:flex;\n",
              "      flex-wrap:wrap;\n",
              "      gap: 12px;\n",
              "    }\n",
              "\n",
              "    .colab-df-convert {\n",
              "      background-color: #E8F0FE;\n",
              "      border: none;\n",
              "      border-radius: 50%;\n",
              "      cursor: pointer;\n",
              "      display: none;\n",
              "      fill: #1967D2;\n",
              "      height: 32px;\n",
              "      padding: 0 0 0 0;\n",
              "      width: 32px;\n",
              "    }\n",
              "\n",
              "    .colab-df-convert:hover {\n",
              "      background-color: #E2EBFA;\n",
              "      box-shadow: 0px 1px 2px rgba(60, 64, 67, 0.3), 0px 1px 3px 1px rgba(60, 64, 67, 0.15);\n",
              "      fill: #174EA6;\n",
              "    }\n",
              "\n",
              "    [theme=dark] .colab-df-convert {\n",
              "      background-color: #3B4455;\n",
              "      fill: #D2E3FC;\n",
              "    }\n",
              "\n",
              "    [theme=dark] .colab-df-convert:hover {\n",
              "      background-color: #434B5C;\n",
              "      box-shadow: 0px 1px 3px 1px rgba(0, 0, 0, 0.15);\n",
              "      filter: drop-shadow(0px 1px 2px rgba(0, 0, 0, 0.3));\n",
              "      fill: #FFFFFF;\n",
              "    }\n",
              "  </style>\n",
              "\n",
              "      <script>\n",
              "        const buttonEl =\n",
              "          document.querySelector('#df-6c539906-9294-409d-8b60-1f89c49e3465 button.colab-df-convert');\n",
              "        buttonEl.style.display =\n",
              "          google.colab.kernel.accessAllowed ? 'block' : 'none';\n",
              "\n",
              "        async function convertToInteractive(key) {\n",
              "          const element = document.querySelector('#df-6c539906-9294-409d-8b60-1f89c49e3465');\n",
              "          const dataTable =\n",
              "            await google.colab.kernel.invokeFunction('convertToInteractive',\n",
              "                                                     [key], {});\n",
              "          if (!dataTable) return;\n",
              "\n",
              "          const docLinkHtml = 'Like what you see? Visit the ' +\n",
              "            '<a target=\"_blank\" href=https://colab.research.google.com/notebooks/data_table.ipynb>data table notebook</a>'\n",
              "            + ' to learn more about interactive tables.';\n",
              "          element.innerHTML = '';\n",
              "          dataTable['output_type'] = 'display_data';\n",
              "          await google.colab.output.renderOutput(dataTable, element);\n",
              "          const docLink = document.createElement('div');\n",
              "          docLink.innerHTML = docLinkHtml;\n",
              "          element.appendChild(docLink);\n",
              "        }\n",
              "      </script>\n",
              "    </div>\n",
              "  </div>\n",
              "  "
            ]
          },
          "metadata": {}
        }
      ]
    },
    {
      "cell_type": "markdown",
      "source": [
        "checking for categorical features\n",
        "\n"
      ],
      "metadata": {
        "id": "6AXRFQlvwVx6"
      }
    },
    {
      "cell_type": "code",
      "source": [
        "data_type=dict(dataset.dtypes)\n",
        "cat_cols=[]\n",
        "for i in data_type:\n",
        "  if data_type.get(i)==\"object\":\n",
        "    cat_cols.append(i)"
      ],
      "metadata": {
        "id": "no3QHenMxTES"
      },
      "execution_count": null,
      "outputs": []
    },
    {
      "cell_type": "code",
      "source": [
        "dataset['Species']=dataset['Species'].astype('category')\n",
        "\n",
        "dataset[\"Species_cat\"] = dataset['Species'].cat.codes\n",
        "\n",
        "dataset.drop(['Species'],axis=1,inplace=True)"
      ],
      "metadata": {
        "id": "bJQ9cpY9zQlZ"
      },
      "execution_count": null,
      "outputs": []
    },
    {
      "cell_type": "code",
      "source": [
        "display(dataset)"
      ],
      "metadata": {
        "colab": {
          "base_uri": "https://localhost:8080/",
          "height": 424
        },
        "id": "dki2DEJAzLxF",
        "outputId": "fe9a2a77-3cf2-454e-c060-f645defcef7c"
      },
      "execution_count": null,
      "outputs": [
        {
          "output_type": "display_data",
          "data": {
            "text/plain": [
              "     SepalLengthCm  SepalWidthCm  PetalLengthCm  PetalWidthCm  Species_cat\n",
              "0              5.1           3.5            1.4           0.2            0\n",
              "1              4.9           3.0            1.4           0.2            0\n",
              "2              4.7           3.2            1.3           0.2            0\n",
              "3              4.6           3.1            1.5           0.2            0\n",
              "4              5.0           3.6            1.4           0.2            0\n",
              "..             ...           ...            ...           ...          ...\n",
              "145            6.7           3.0            5.2           2.3            2\n",
              "146            6.3           2.5            5.0           1.9            2\n",
              "147            6.5           3.0            5.2           2.0            2\n",
              "148            6.2           3.4            5.4           2.3            2\n",
              "149            5.9           3.0            5.1           1.8            2\n",
              "\n",
              "[150 rows x 5 columns]"
            ],
            "text/html": [
              "\n",
              "  <div id=\"df-d3136529-5262-4f39-9910-73caab66a1b3\">\n",
              "    <div class=\"colab-df-container\">\n",
              "      <div>\n",
              "<style scoped>\n",
              "    .dataframe tbody tr th:only-of-type {\n",
              "        vertical-align: middle;\n",
              "    }\n",
              "\n",
              "    .dataframe tbody tr th {\n",
              "        vertical-align: top;\n",
              "    }\n",
              "\n",
              "    .dataframe thead th {\n",
              "        text-align: right;\n",
              "    }\n",
              "</style>\n",
              "<table border=\"1\" class=\"dataframe\">\n",
              "  <thead>\n",
              "    <tr style=\"text-align: right;\">\n",
              "      <th></th>\n",
              "      <th>SepalLengthCm</th>\n",
              "      <th>SepalWidthCm</th>\n",
              "      <th>PetalLengthCm</th>\n",
              "      <th>PetalWidthCm</th>\n",
              "      <th>Species_cat</th>\n",
              "    </tr>\n",
              "  </thead>\n",
              "  <tbody>\n",
              "    <tr>\n",
              "      <th>0</th>\n",
              "      <td>5.1</td>\n",
              "      <td>3.5</td>\n",
              "      <td>1.4</td>\n",
              "      <td>0.2</td>\n",
              "      <td>0</td>\n",
              "    </tr>\n",
              "    <tr>\n",
              "      <th>1</th>\n",
              "      <td>4.9</td>\n",
              "      <td>3.0</td>\n",
              "      <td>1.4</td>\n",
              "      <td>0.2</td>\n",
              "      <td>0</td>\n",
              "    </tr>\n",
              "    <tr>\n",
              "      <th>2</th>\n",
              "      <td>4.7</td>\n",
              "      <td>3.2</td>\n",
              "      <td>1.3</td>\n",
              "      <td>0.2</td>\n",
              "      <td>0</td>\n",
              "    </tr>\n",
              "    <tr>\n",
              "      <th>3</th>\n",
              "      <td>4.6</td>\n",
              "      <td>3.1</td>\n",
              "      <td>1.5</td>\n",
              "      <td>0.2</td>\n",
              "      <td>0</td>\n",
              "    </tr>\n",
              "    <tr>\n",
              "      <th>4</th>\n",
              "      <td>5.0</td>\n",
              "      <td>3.6</td>\n",
              "      <td>1.4</td>\n",
              "      <td>0.2</td>\n",
              "      <td>0</td>\n",
              "    </tr>\n",
              "    <tr>\n",
              "      <th>...</th>\n",
              "      <td>...</td>\n",
              "      <td>...</td>\n",
              "      <td>...</td>\n",
              "      <td>...</td>\n",
              "      <td>...</td>\n",
              "    </tr>\n",
              "    <tr>\n",
              "      <th>145</th>\n",
              "      <td>6.7</td>\n",
              "      <td>3.0</td>\n",
              "      <td>5.2</td>\n",
              "      <td>2.3</td>\n",
              "      <td>2</td>\n",
              "    </tr>\n",
              "    <tr>\n",
              "      <th>146</th>\n",
              "      <td>6.3</td>\n",
              "      <td>2.5</td>\n",
              "      <td>5.0</td>\n",
              "      <td>1.9</td>\n",
              "      <td>2</td>\n",
              "    </tr>\n",
              "    <tr>\n",
              "      <th>147</th>\n",
              "      <td>6.5</td>\n",
              "      <td>3.0</td>\n",
              "      <td>5.2</td>\n",
              "      <td>2.0</td>\n",
              "      <td>2</td>\n",
              "    </tr>\n",
              "    <tr>\n",
              "      <th>148</th>\n",
              "      <td>6.2</td>\n",
              "      <td>3.4</td>\n",
              "      <td>5.4</td>\n",
              "      <td>2.3</td>\n",
              "      <td>2</td>\n",
              "    </tr>\n",
              "    <tr>\n",
              "      <th>149</th>\n",
              "      <td>5.9</td>\n",
              "      <td>3.0</td>\n",
              "      <td>5.1</td>\n",
              "      <td>1.8</td>\n",
              "      <td>2</td>\n",
              "    </tr>\n",
              "  </tbody>\n",
              "</table>\n",
              "<p>150 rows × 5 columns</p>\n",
              "</div>\n",
              "      <button class=\"colab-df-convert\" onclick=\"convertToInteractive('df-d3136529-5262-4f39-9910-73caab66a1b3')\"\n",
              "              title=\"Convert this dataframe to an interactive table.\"\n",
              "              style=\"display:none;\">\n",
              "        \n",
              "  <svg xmlns=\"http://www.w3.org/2000/svg\" height=\"24px\"viewBox=\"0 0 24 24\"\n",
              "       width=\"24px\">\n",
              "    <path d=\"M0 0h24v24H0V0z\" fill=\"none\"/>\n",
              "    <path d=\"M18.56 5.44l.94 2.06.94-2.06 2.06-.94-2.06-.94-.94-2.06-.94 2.06-2.06.94zm-11 1L8.5 8.5l.94-2.06 2.06-.94-2.06-.94L8.5 2.5l-.94 2.06-2.06.94zm10 10l.94 2.06.94-2.06 2.06-.94-2.06-.94-.94-2.06-.94 2.06-2.06.94z\"/><path d=\"M17.41 7.96l-1.37-1.37c-.4-.4-.92-.59-1.43-.59-.52 0-1.04.2-1.43.59L10.3 9.45l-7.72 7.72c-.78.78-.78 2.05 0 2.83L4 21.41c.39.39.9.59 1.41.59.51 0 1.02-.2 1.41-.59l7.78-7.78 2.81-2.81c.8-.78.8-2.07 0-2.86zM5.41 20L4 18.59l7.72-7.72 1.47 1.35L5.41 20z\"/>\n",
              "  </svg>\n",
              "      </button>\n",
              "      \n",
              "  <style>\n",
              "    .colab-df-container {\n",
              "      display:flex;\n",
              "      flex-wrap:wrap;\n",
              "      gap: 12px;\n",
              "    }\n",
              "\n",
              "    .colab-df-convert {\n",
              "      background-color: #E8F0FE;\n",
              "      border: none;\n",
              "      border-radius: 50%;\n",
              "      cursor: pointer;\n",
              "      display: none;\n",
              "      fill: #1967D2;\n",
              "      height: 32px;\n",
              "      padding: 0 0 0 0;\n",
              "      width: 32px;\n",
              "    }\n",
              "\n",
              "    .colab-df-convert:hover {\n",
              "      background-color: #E2EBFA;\n",
              "      box-shadow: 0px 1px 2px rgba(60, 64, 67, 0.3), 0px 1px 3px 1px rgba(60, 64, 67, 0.15);\n",
              "      fill: #174EA6;\n",
              "    }\n",
              "\n",
              "    [theme=dark] .colab-df-convert {\n",
              "      background-color: #3B4455;\n",
              "      fill: #D2E3FC;\n",
              "    }\n",
              "\n",
              "    [theme=dark] .colab-df-convert:hover {\n",
              "      background-color: #434B5C;\n",
              "      box-shadow: 0px 1px 3px 1px rgba(0, 0, 0, 0.15);\n",
              "      filter: drop-shadow(0px 1px 2px rgba(0, 0, 0, 0.3));\n",
              "      fill: #FFFFFF;\n",
              "    }\n",
              "  </style>\n",
              "\n",
              "      <script>\n",
              "        const buttonEl =\n",
              "          document.querySelector('#df-d3136529-5262-4f39-9910-73caab66a1b3 button.colab-df-convert');\n",
              "        buttonEl.style.display =\n",
              "          google.colab.kernel.accessAllowed ? 'block' : 'none';\n",
              "\n",
              "        async function convertToInteractive(key) {\n",
              "          const element = document.querySelector('#df-d3136529-5262-4f39-9910-73caab66a1b3');\n",
              "          const dataTable =\n",
              "            await google.colab.kernel.invokeFunction('convertToInteractive',\n",
              "                                                     [key], {});\n",
              "          if (!dataTable) return;\n",
              "\n",
              "          const docLinkHtml = 'Like what you see? Visit the ' +\n",
              "            '<a target=\"_blank\" href=https://colab.research.google.com/notebooks/data_table.ipynb>data table notebook</a>'\n",
              "            + ' to learn more about interactive tables.';\n",
              "          element.innerHTML = '';\n",
              "          dataTable['output_type'] = 'display_data';\n",
              "          await google.colab.output.renderOutput(dataTable, element);\n",
              "          const docLink = document.createElement('div');\n",
              "          docLink.innerHTML = docLinkHtml;\n",
              "          element.appendChild(docLink);\n",
              "        }\n",
              "      </script>\n",
              "    </div>\n",
              "  </div>\n",
              "  "
            ]
          },
          "metadata": {}
        }
      ]
    },
    {
      "cell_type": "markdown",
      "metadata": {
        "id": "vQdzRk4QrASW"
      },
      "source": [
        "##training and predicting"
      ]
    },
    {
      "cell_type": "code",
      "execution_count": null,
      "metadata": {
        "id": "hjq-loB1yhdz"
      },
      "outputs": [],
      "source": [
        "from sklearn.model_selection import train_test_split\n",
        "from sklearn.preprocessing import RobustScaler\n",
        "\n",
        "from tensorflow import keras\n",
        "from tensorflow.keras import Sequential\n",
        "from tensorflow.keras import layers\n",
        "from tensorflow.keras.layers import Dense\n",
        "from keras import backend as K"
      ]
    },
    {
      "cell_type": "code",
      "execution_count": null,
      "metadata": {
        "id": "ePE0O37n5YqG"
      },
      "outputs": [],
      "source": [
        "df=dataset.copy()"
      ]
    },
    {
      "cell_type": "code",
      "execution_count": null,
      "metadata": {
        "id": "ujSPkz3d5lDw"
      },
      "outputs": [],
      "source": [
        "x = df.drop(['Species_cat'], axis=1)\n",
        "y = pd.get_dummies(df['Species_cat']).values\n",
        "#split the features and labels into  train and test data\n",
        "x_train, x_test, y_train, y_test = train_test_split(x, y, test_size=0.2, random_state=1)\n",
        "#rescale the data to be robust to outliers\n",
        "scaler = RobustScaler()\n",
        "scaler.fit(x_train)\n",
        "x_train = scaler.transform(x_train)\n",
        "x_test = scaler.transform(x_test)"
      ]
    },
    {
      "cell_type": "code",
      "source": [
        "x_train.shape"
      ],
      "metadata": {
        "colab": {
          "base_uri": "https://localhost:8080/"
        },
        "id": "PqMTdocw1S8Q",
        "outputId": "b6ded9eb-244e-4051-c036-a3846085f935"
      },
      "execution_count": null,
      "outputs": [
        {
          "output_type": "execute_result",
          "data": {
            "text/plain": [
              "(120, 4)"
            ]
          },
          "metadata": {},
          "execution_count": 47
        }
      ]
    },
    {
      "cell_type": "code",
      "source": [
        ""
      ],
      "metadata": {
        "id": "S8r17NtXE1f4"
      },
      "execution_count": null,
      "outputs": []
    },
    {
      "cell_type": "code",
      "source": [
        "model=Sequential([\n",
        "    Dense(100,input_shape=(4,),activation='relu'),\n",
        "    Dense(3,activation='sigmoid'),\n",
        "\n",
        "])"
      ],
      "metadata": {
        "id": "dbZ8-a9702Cv"
      },
      "execution_count": null,
      "outputs": []
    },
    {
      "cell_type": "code",
      "source": [
        "model.summary()"
      ],
      "metadata": {
        "colab": {
          "base_uri": "https://localhost:8080/"
        },
        "id": "Spq2iEt12DN_",
        "outputId": "336d7149-4c38-48f8-d4c2-bd57be0618d2"
      },
      "execution_count": null,
      "outputs": [
        {
          "output_type": "stream",
          "name": "stdout",
          "text": [
            "Model: \"sequential_22\"\n",
            "_________________________________________________________________\n",
            " Layer (type)                Output Shape              Param #   \n",
            "=================================================================\n",
            " dense_44 (Dense)            (None, 100)               500       \n",
            "                                                                 \n",
            " dense_45 (Dense)            (None, 3)                 303       \n",
            "                                                                 \n",
            "=================================================================\n",
            "Total params: 803\n",
            "Trainable params: 803\n",
            "Non-trainable params: 0\n",
            "_________________________________________________________________\n"
          ]
        }
      ]
    },
    {
      "cell_type": "code",
      "source": [
        "model.compile(optimizer=tf.keras.optimizers.Adam(\n",
        "    learning_rate=0.01),\n",
        "    loss='binary_crossentropy',metrics='accuracy')"
      ],
      "metadata": {
        "id": "z3oKeczJ2muh"
      },
      "execution_count": null,
      "outputs": []
    },
    {
      "cell_type": "code",
      "source": [
        "model.fit(x_train,y_train,epochs=15,validation_split=0.2)"
      ],
      "metadata": {
        "colab": {
          "base_uri": "https://localhost:8080/"
        },
        "id": "DrgoypPp2zjI",
        "outputId": "7d4a195a-5415-4454-b7dd-668a02602cc3"
      },
      "execution_count": null,
      "outputs": [
        {
          "output_type": "stream",
          "name": "stdout",
          "text": [
            "Epoch 1/15\n",
            "3/3 [==============================] - 0s 57ms/step - loss: 0.0234 - accuracy: 0.9896 - val_loss: 0.0860 - val_accuracy: 0.9583\n",
            "Epoch 2/15\n",
            "3/3 [==============================] - 0s 28ms/step - loss: 0.0235 - accuracy: 0.9896 - val_loss: 0.0856 - val_accuracy: 0.9583\n",
            "Epoch 3/15\n",
            "3/3 [==============================] - 0s 27ms/step - loss: 0.0233 - accuracy: 0.9896 - val_loss: 0.0862 - val_accuracy: 0.9583\n",
            "Epoch 4/15\n",
            "3/3 [==============================] - 0s 34ms/step - loss: 0.0228 - accuracy: 0.9896 - val_loss: 0.0866 - val_accuracy: 0.9583\n",
            "Epoch 5/15\n",
            "3/3 [==============================] - 0s 48ms/step - loss: 0.0222 - accuracy: 0.9896 - val_loss: 0.0870 - val_accuracy: 0.9583\n",
            "Epoch 6/15\n",
            "3/3 [==============================] - 0s 36ms/step - loss: 0.0219 - accuracy: 0.9896 - val_loss: 0.0881 - val_accuracy: 0.9583\n",
            "Epoch 7/15\n",
            "3/3 [==============================] - 0s 29ms/step - loss: 0.0222 - accuracy: 0.9896 - val_loss: 0.0934 - val_accuracy: 0.9583\n",
            "Epoch 8/15\n",
            "3/3 [==============================] - 0s 30ms/step - loss: 0.0219 - accuracy: 0.9896 - val_loss: 0.0962 - val_accuracy: 0.9583\n",
            "Epoch 9/15\n",
            "3/3 [==============================] - 0s 29ms/step - loss: 0.0220 - accuracy: 0.9896 - val_loss: 0.0954 - val_accuracy: 0.9583\n",
            "Epoch 10/15\n",
            "3/3 [==============================] - 0s 32ms/step - loss: 0.0214 - accuracy: 0.9896 - val_loss: 0.0914 - val_accuracy: 0.9583\n",
            "Epoch 11/15\n",
            "3/3 [==============================] - 0s 28ms/step - loss: 0.0208 - accuracy: 0.9896 - val_loss: 0.0901 - val_accuracy: 0.9583\n",
            "Epoch 12/15\n",
            "3/3 [==============================] - 0s 36ms/step - loss: 0.0207 - accuracy: 0.9896 - val_loss: 0.0900 - val_accuracy: 0.9583\n",
            "Epoch 13/15\n",
            "3/3 [==============================] - 0s 28ms/step - loss: 0.0212 - accuracy: 0.9896 - val_loss: 0.0909 - val_accuracy: 0.9583\n",
            "Epoch 14/15\n",
            "3/3 [==============================] - 0s 29ms/step - loss: 0.0206 - accuracy: 0.9896 - val_loss: 0.0925 - val_accuracy: 0.9583\n",
            "Epoch 15/15\n",
            "3/3 [==============================] - 0s 26ms/step - loss: 0.0202 - accuracy: 0.9896 - val_loss: 0.0956 - val_accuracy: 0.9583\n"
          ]
        },
        {
          "output_type": "execute_result",
          "data": {
            "text/plain": [
              "<keras.callbacks.History at 0x7fad7539c8d0>"
            ]
          },
          "metadata": {},
          "execution_count": 284
        }
      ]
    },
    {
      "cell_type": "code",
      "source": [
        "pred=model.predict(x_test)"
      ],
      "metadata": {
        "id": "5C177UCW-raW"
      },
      "execution_count": null,
      "outputs": []
    },
    {
      "cell_type": "code",
      "source": [
        "model.evaluate(x_test,y_test)"
      ],
      "metadata": {
        "colab": {
          "base_uri": "https://localhost:8080/"
        },
        "id": "52r9MD01-x3E",
        "outputId": "825dc7f0-3d33-4c4d-9365-a79bb9010581"
      },
      "execution_count": null,
      "outputs": [
        {
          "output_type": "stream",
          "name": "stdout",
          "text": [
            "1/1 [==============================] - 0s 40ms/step - loss: 0.0181 - accuracy: 1.0000\n"
          ]
        },
        {
          "output_type": "execute_result",
          "data": {
            "text/plain": [
              "[0.0180569589138031, 1.0]"
            ]
          },
          "metadata": {},
          "execution_count": 285
        }
      ]
    },
    {
      "cell_type": "code",
      "source": [
        "display(np.argmax(y_test,axis=1))"
      ],
      "metadata": {
        "colab": {
          "base_uri": "https://localhost:8080/",
          "height": 52
        },
        "id": "SwZ5cMCr_HxJ",
        "outputId": "19045e03-ed57-420d-94ec-70921562434c"
      },
      "execution_count": null,
      "outputs": [
        {
          "output_type": "display_data",
          "data": {
            "text/plain": [
              "array([0, 1, 1, 0, 2, 1, 2, 0, 0, 2, 1, 0, 2, 1, 1, 0, 1, 1, 0, 0, 1, 1,\n",
              "       1, 0, 2, 1, 0, 0, 1, 2])"
            ]
          },
          "metadata": {}
        }
      ]
    },
    {
      "cell_type": "code",
      "source": [
        "display(np.argmax(pred,axis=1))"
      ],
      "metadata": {
        "id": "2KkKGQeW_BSm"
      },
      "execution_count": null,
      "outputs": []
    },
    {
      "cell_type": "code",
      "source": [
        ""
      ],
      "metadata": {
        "id": "6hz5rAylINzR"
      },
      "execution_count": null,
      "outputs": []
    },
    {
      "cell_type": "markdown",
      "source": [
        "#bank dataset"
      ],
      "metadata": {
        "id": "iZNdwRvPm3wW"
      }
    },
    {
      "cell_type": "markdown",
      "source": [
        "##import dataset"
      ],
      "metadata": {
        "id": "vnnm5FAQnUVR"
      }
    },
    {
      "cell_type": "code",
      "source": [
        "from google.colab import files"
      ],
      "metadata": {
        "id": "Wj47QDnAm-t3"
      },
      "execution_count": null,
      "outputs": []
    },
    {
      "cell_type": "code",
      "source": [
        "files.upload()"
      ],
      "metadata": {
        "colab": {
          "resources": {
            "http://localhost:8080/nbextensions/google.colab/files.js": {
              "data": "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",
              "ok": true,
              "headers": [
                [
                  "content-type",
                  "application/javascript"
                ]
              ],
              "status": 200,
              "status_text": ""
            }
          },
          "base_uri": "https://localhost:8080/",
          "height": 111
        },
        "id": "VRtxBOWMnHTr",
        "outputId": "55a2f868-f205-461b-9fab-ec96157861c5"
      },
      "execution_count": null,
      "outputs": [
        {
          "output_type": "display_data",
          "data": {
            "text/plain": [
              "<IPython.core.display.HTML object>"
            ],
            "text/html": [
              "\n",
              "     <input type=\"file\" id=\"files-2128a126-0e2d-4c66-b75c-ab2e84fc1327\" name=\"files[]\" multiple disabled\n",
              "        style=\"border:none\" />\n",
              "     <output id=\"result-2128a126-0e2d-4c66-b75c-ab2e84fc1327\">\n",
              "      Upload widget is only available when the cell has been executed in the\n",
              "      current browser session. Please rerun this cell to enable.\n",
              "      </output>\n",
              "      <script src=\"/nbextensions/google.colab/files.js\"></script> "
            ]
          },
          "metadata": {}
        },
        {
          "output_type": "stream",
          "name": "stdout",
          "text": [
            "Saving bank-data.csv to bank-data.csv\n"
          ]
        },
        {
          "output_type": "execute_result",
          "data": {
            "text/plain": [
              "{'bank-data.csv': b'id,age,sex,region,income,married,children,car,save_act,current_act,mortgage,pep\\nID12101,48,FEMALE,INNER_CITY,17546.0,NO,1,NO,NO,NO,NO,YES\\nID12102,40,MALE,TOWN,30085.1,YES,3,YES,NO,YES,YES,NO\\nID12103,51,FEMALE,INNER_CITY,16575.4,YES,0,YES,YES,YES,NO,NO\\nID12104,23,FEMALE,TOWN,20375.4,YES,3,NO,NO,YES,NO,NO\\nID12105,57,FEMALE,RURAL,50576.3,YES,0,NO,YES,NO,NO,NO\\nID12106,57,FEMALE,TOWN,37869.6,YES,2,NO,YES,YES,NO,YES\\nID12107,22,MALE,RURAL,8877.07,NO,0,NO,NO,YES,NO,YES\\nID12108,58,MALE,TOWN,24946.6,YES,0,YES,YES,YES,NO,NO\\nID12109,37,FEMALE,SUBURBAN,25304.3,YES,2,YES,NO,NO,NO,NO\\nID12110,54,MALE,TOWN,24212.1,YES,2,YES,YES,YES,NO,NO\\nID12111,66,FEMALE,TOWN,59803.9,YES,0,NO,YES,YES,NO,NO\\nID12112,52,FEMALE,INNER_CITY,26658.8,NO,0,YES,YES,YES,YES,NO\\nID12113,44,FEMALE,TOWN,15735.8,YES,1,NO,YES,YES,YES,YES\\nID12114,66,FEMALE,TOWN,55204.7,YES,1,YES,YES,YES,YES,YES\\nID12115,36,MALE,RURAL,19474.6,YES,0,NO,YES,YES,YES,NO\\nID12116,38,FEMALE,INNER_CITY,22342.1,YES,0,YES,YES,YES,YES,NO\\nID12117,37,FEMALE,TOWN,17729.8,YES,2,NO,NO,NO,YES,NO\\nID12118,46,FEMALE,SUBURBAN,41016.0,YES,0,NO,YES,NO,YES,NO\\nID12119,62,FEMALE,INNER_CITY,26909.2,YES,0,NO,YES,NO,NO,YES\\nID12120,31,MALE,TOWN,22522.8,YES,0,YES,YES,YES,NO,NO\\nID12121,61,MALE,INNER_CITY,57880.7,YES,2,NO,YES,NO,NO,YES\\nID12122,50,MALE,TOWN,16497.3,YES,2,NO,YES,YES,NO,NO\\nID12123,54,MALE,INNER_CITY,38446.6,YES,0,NO,YES,YES,NO,NO\\nID12124,27,FEMALE,TOWN,15538.8,NO,0,YES,YES,YES,YES,NO\\nID12125,22,MALE,INNER_CITY,12640.3,NO,2,YES,YES,YES,NO,NO\\nID12126,56,MALE,INNER_CITY,41034.0,YES,0,YES,YES,YES,YES,NO\\nID12127,45,MALE,INNER_CITY,20809.7,YES,0,NO,YES,YES,YES,NO\\nID12128,39,FEMALE,TOWN,20114.0,YES,1,NO,NO,YES,NO,YES\\nID12129,39,FEMALE,INNER_CITY,29359.1,NO,3,YES,NO,YES,YES,NO\\nID12130,61,MALE,RURAL,24270.1,YES,1,NO,NO,YES,NO,YES\\nID12131,61,FEMALE,RURAL,22942.9,YES,2,NO,YES,YES,NO,NO\\nID12132,20,FEMALE,TOWN,16325.8,YES,2,NO,YES,NO,NO,NO\\nID12133,45,MALE,SUBURBAN,23443.2,YES,1,YES,YES,YES,NO,YES\\nID12134,33,FEMALE,INNER_CITY,29921.3,NO,3,YES,YES,NO,NO,NO\\nID12135,43,MALE,SUBURBAN,37521.9,NO,0,NO,YES,YES,NO,YES\\nID12136,27,FEMALE,INNER_CITY,19868.0,YES,2,NO,YES,YES,NO,NO\\nID12137,19,MALE,RURAL,10953.0,YES,3,YES,YES,YES,NO,NO\\nID12138,36,FEMALE,RURAL,13381.0,NO,0,YES,NO,YES,NO,YES\\nID12139,43,FEMALE,TOWN,18504.3,YES,0,YES,YES,YES,NO,NO\\nID12140,66,FEMALE,SUBURBAN,25391.5,NO,2,NO,NO,YES,NO,NO\\nID12141,55,MALE,TOWN,26774.2,YES,0,NO,NO,YES,YES,YES\\nID12142,47,FEMALE,INNER_CITY,26952.6,YES,0,YES,NO,YES,NO,NO\\nID12143,67,MALE,TOWN,55716.5,NO,2,YES,YES,NO,NO,YES\\nID12144,32,FEMALE,TOWN,27571.5,YES,0,YES,NO,YES,YES,NO\\nID12145,20,MALE,INNER_CITY,13740.0,NO,2,YES,YES,YES,YES,NO\\nID12146,64,MALE,INNER_CITY,52670.6,YES,2,NO,YES,YES,YES,YES\\nID12147,50,FEMALE,INNER_CITY,13283.9,NO,1,YES,YES,YES,NO,YES\\nID12148,29,MALE,INNER_CITY,13106.6,NO,2,NO,YES,YES,YES,YES\\nID12149,52,MALE,INNER_CITY,39547.8,NO,2,YES,NO,YES,NO,YES\\nID12150,47,FEMALE,RURAL,17867.3,YES,2,YES,YES,NO,NO,NO\\nID12151,24,MALE,TOWN,14309.7,NO,2,YES,YES,NO,NO,NO\\nID12152,36,MALE,TOWN,23894.8,YES,0,NO,NO,NO,NO,NO\\nID12153,43,MALE,TOWN,16259.7,YES,1,NO,YES,YES,NO,YES\\nID12154,48,MALE,SUBURBAN,29794.1,NO,1,NO,YES,YES,NO,YES\\nID12155,63,MALE,TOWN,56842.5,YES,0,NO,YES,YES,YES,NO\\nID12156,52,FEMALE,RURAL,47835.8,NO,3,NO,YES,NO,NO,YES\\nID12157,58,FEMALE,INNER_CITY,24977.5,NO,0,NO,NO,YES,NO,YES\\nID12158,28,MALE,INNER_CITY,23124.9,YES,0,NO,YES,YES,NO,YES\\nID12159,29,FEMALE,INNER_CITY,15143.8,YES,0,NO,NO,YES,NO,NO\\nID12160,34,MALE,INNER_CITY,25334.3,NO,1,YES,YES,YES,YES,YES\\nID12161,42,FEMALE,INNER_CITY,24763.3,YES,1,NO,YES,YES,YES,YES\\nID12162,65,FEMALE,INNER_CITY,36589.0,NO,1,YES,NO,YES,NO,YES\\nID12163,47,MALE,INNER_CITY,27022.6,YES,2,NO,YES,YES,NO,NO\\nID12164,20,MALE,INNER_CITY,11700.4,YES,0,NO,YES,NO,NO,NO\\nID12165,21,MALE,TOWN,5014.21,NO,0,YES,YES,YES,YES,NO\\nID12166,42,MALE,INNER_CITY,17390.1,YES,0,NO,YES,YES,NO,NO\\nID12167,19,MALE,TOWN,10861.0,NO,2,NO,YES,YES,NO,NO\\nID12168,41,FEMALE,TOWN,34892.9,NO,0,NO,YES,YES,YES,NO\\nID12169,30,MALE,TOWN,19403.1,NO,2,NO,YES,YES,NO,NO\\nID12170,31,FEMALE,RURAL,10441.9,YES,2,NO,NO,YES,NO,YES\\nID12171,25,MALE,INNER_CITY,14064.9,YES,3,YES,YES,YES,NO,NO\\nID12172,21,MALE,INNER_CITY,8062.73,NO,0,NO,NO,YES,NO,YES\\nID12173,36,MALE,INNER_CITY,31982.0,YES,3,YES,YES,YES,YES,YES\\nID12174,58,FEMALE,INNER_CITY,23197.5,YES,2,NO,YES,NO,YES,NO\\nID12175,64,FEMALE,INNER_CITY,52674.0,NO,2,YES,YES,YES,NO,YES\\nID12176,59,FEMALE,RURAL,35610.5,NO,2,YES,NO,NO,NO,YES\\nID12177,45,FEMALE,TOWN,26948.0,NO,0,NO,YES,YES,YES,NO\\nID12178,61,MALE,INNER_CITY,49456.7,YES,1,YES,YES,YES,YES,YES\\nID12179,30,FEMALE,INNER_CITY,14724.5,YES,0,YES,NO,YES,NO,NO\\nID12180,58,FEMALE,TOWN,34524.9,YES,2,YES,YES,NO,NO,YES\\nID12181,50,FEMALE,TOWN,22052.1,NO,3,NO,YES,YES,NO,YES\\nID12182,30,MALE,INNER_CITY,27808.1,NO,3,NO,NO,YES,NO,NO\\nID12183,29,FEMALE,INNER_CITY,12591.4,YES,1,NO,YES,YES,NO,NO\\nID12184,35,MALE,INNER_CITY,16394.4,YES,1,NO,YES,YES,NO,YES\\nID12185,62,MALE,INNER_CITY,24026.1,YES,0,NO,NO,YES,YES,YES\\nID12186,36,MALE,INNER_CITY,31683.1,YES,1,YES,YES,YES,NO,YES\\nID12187,25,FEMALE,INNER_CITY,15525.0,YES,0,NO,YES,YES,NO,NO\\nID12188,66,FEMALE,TOWN,22562.2,NO,0,YES,YES,YES,YES,NO\\nID12189,30,MALE,SUBURBAN,15848.7,YES,0,YES,YES,NO,YES,NO\\nID12190,54,FEMALE,INNER_CITY,31095.6,YES,2,NO,NO,YES,NO,YES\\nID12191,37,MALE,TOWN,24814.5,YES,1,YES,NO,YES,YES,YES\\nID12192,28,FEMALE,INNER_CITY,25429.3,NO,2,NO,YES,YES,YES,NO\\nID12193,53,FEMALE,RURAL,34866.5,NO,0,NO,NO,YES,NO,YES\\nID12194,61,MALE,INNER_CITY,42579.1,YES,2,YES,YES,YES,NO,NO\\nID12195,61,FEMALE,INNER_CITY,41127.4,YES,0,YES,YES,NO,NO,NO\\nID12196,18,FEMALE,INNER_CITY,9990.11,YES,0,NO,YES,YES,NO,NO\\nID12197,22,MALE,INNER_CITY,7948.62,YES,1,NO,NO,NO,YES,NO\\nID12198,34,MALE,TOWN,30870.8,YES,2,YES,YES,YES,YES,YES\\nID12199,35,FEMALE,INNER_CITY,12125.8,NO,2,NO,YES,YES,NO,NO\\nID12200,18,FEMALE,RURAL,15348.9,YES,0,YES,NO,YES,NO,NO\\nID12201,54,MALE,INNER_CITY,26707.9,YES,1,NO,YES,YES,YES,YES\\nID12202,27,FEMALE,INNER_CITY,11604.4,YES,2,YES,YES,YES,NO,NO\\nID12203,42,MALE,INNER_CITY,15499.9,YES,0,YES,NO,YES,YES,YES\\nID12204,43,MALE,TOWN,33088.5,NO,0,NO,YES,YES,YES,NO\\nID12205,64,FEMALE,INNER_CITY,34513.6,YES,1,NO,YES,YES,NO,YES\\nID12206,43,MALE,TOWN,32395.5,YES,3,YES,YES,YES,NO,NO\\nID12207,49,MALE,RURAL,46633.0,YES,0,YES,YES,NO,NO,NO\\nID12208,23,MALE,INNER_CITY,13039.9,YES,0,NO,NO,YES,NO,NO\\nID12209,23,MALE,INNER_CITY,12681.9,NO,0,NO,YES,YES,NO,YES\\nID12210,30,FEMALE,INNER_CITY,24031.5,YES,2,YES,YES,YES,YES,NO\\nID12211,36,MALE,TOWN,37330.5,NO,2,NO,YES,YES,NO,YES\\nID12212,34,MALE,INNER_CITY,25333.2,YES,3,YES,NO,NO,YES,NO\\nID12213,51,FEMALE,INNER_CITY,37094.2,YES,0,YES,NO,YES,NO,NO\\nID12214,36,MALE,TOWN,33630.6,NO,2,YES,YES,YES,NO,YES\\nID12215,56,MALE,INNER_CITY,43228.2,YES,1,YES,YES,YES,NO,YES\\nID12216,54,FEMALE,INNER_CITY,47796.8,YES,0,NO,YES,YES,NO,NO\\nID12217,56,FEMALE,TOWN,21730.3,YES,2,NO,YES,NO,NO,NO\\nID12218,26,MALE,INNER_CITY,10044.1,YES,3,NO,YES,YES,YES,NO\\nID12219,39,MALE,TOWN,17270.1,NO,0,YES,NO,NO,NO,YES\\nID12220,64,FEMALE,RURAL,45765.0,YES,3,YES,YES,YES,NO,YES\\nID12221,46,MALE,RURAL,29525.5,NO,2,NO,YES,NO,YES,NO\\nID12222,62,FEMALE,RURAL,54863.8,YES,1,YES,YES,YES,NO,YES\\nID12223,36,FEMALE,TOWN,20799.0,YES,1,NO,YES,NO,YES,YES\\nID12224,35,FEMALE,RURAL,33028.3,NO,1,NO,YES,YES,NO,YES\\nID12225,47,MALE,RURAL,45031.9,NO,3,YES,YES,NO,NO,YES\\nID12226,47,MALE,INNER_CITY,39010.8,YES,2,NO,NO,YES,NO,YES\\nID12227,37,FEMALE,TOWN,25257.7,YES,0,YES,YES,YES,NO,NO\\nID12228,48,FEMALE,INNER_CITY,42603.9,YES,0,NO,YES,YES,NO,NO\\nID12229,41,MALE,TOWN,14092.7,YES,3,YES,YES,YES,NO,NO\\nID12230,27,FEMALE,RURAL,21350.3,NO,0,YES,YES,YES,NO,YES\\nID12231,43,MALE,INNER_CITY,23246.4,NO,2,NO,NO,YES,NO,NO\\nID12232,61,MALE,RURAL,41609.5,YES,3,NO,YES,YES,YES,NO\\nID12233,52,FEMALE,SUBURBAN,16716.1,NO,2,YES,YES,YES,NO,NO\\nID12234,64,FEMALE,SUBURBAN,36436.4,YES,0,YES,NO,YES,NO,NO\\nID12235,66,FEMALE,TOWN,59503.8,YES,2,YES,YES,YES,YES,YES\\nID12236,53,FEMALE,TOWN,31334.8,YES,1,YES,YES,YES,NO,YES\\nID12237,20,FEMALE,INNER_CITY,14048.9,YES,2,YES,NO,YES,YES,NO\\nID12238,57,FEMALE,INNER_CITY,39205.3,NO,0,NO,YES,YES,NO,YES\\nID12239,65,FEMALE,RURAL,42173.9,YES,0,NO,YES,YES,NO,NO\\nID12240,64,FEMALE,INNER_CITY,55263.0,NO,1,NO,YES,YES,NO,YES\\nID12241,52,MALE,INNER_CITY,37095.2,YES,3,NO,YES,YES,NO,NO\\nID12242,47,FEMALE,INNER_CITY,22791.4,YES,0,NO,NO,YES,NO,NO\\nID12243,28,FEMALE,TOWN,17240.6,YES,1,YES,NO,NO,YES,NO\\nID12244,64,MALE,TOWN,48974.8,YES,0,YES,YES,YES,YES,NO\\nID12245,25,MALE,INNER_CITY,18923.0,YES,1,NO,YES,YES,NO,YES\\nID12246,58,MALE,SUBURBAN,51204.2,YES,0,NO,YES,NO,YES,YES\\nID12247,34,MALE,TOWN,20236.2,YES,2,YES,NO,YES,NO,NO\\nID12248,20,FEMALE,INNER_CITY,18860.3,NO,2,NO,YES,YES,NO,NO\\nID12249,63,MALE,RURAL,25732.5,YES,0,YES,YES,NO,NO,NO\\nID12250,30,FEMALE,SUBURBAN,28240.4,YES,3,YES,YES,YES,NO,NO\\nID12251,53,MALE,RURAL,28193.6,YES,1,YES,YES,YES,NO,YES\\nID12252,43,MALE,TOWN,36432.8,NO,2,YES,NO,YES,NO,YES\\nID12253,63,MALE,TOWN,54618.8,YES,2,NO,YES,NO,YES,YES\\nID12254,33,MALE,INNER_CITY,24760.8,YES,1,NO,YES,YES,YES,YES\\nID12255,41,MALE,RURAL,23356.1,NO,2,YES,NO,NO,NO,NO\\nID12256,20,FEMALE,SUBURBAN,8143.75,YES,2,NO,YES,YES,NO,YES\\nID12257,50,MALE,TOWN,26462.5,YES,0,YES,YES,YES,NO,NO\\nID12258,24,MALE,RURAL,20467.3,YES,2,YES,YES,YES,NO,NO\\nID12259,60,FEMALE,TOWN,21506.2,YES,0,NO,NO,YES,NO,YES\\nID12260,44,FEMALE,TOWN,15315.3,YES,1,NO,YES,YES,NO,YES\\nID12261,23,MALE,INNER_CITY,18875.7,YES,2,YES,YES,YES,NO,NO\\nID12262,40,FEMALE,INNER_CITY,12977.2,YES,0,NO,NO,NO,NO,NO\\nID12263,49,FEMALE,TOWN,20708.5,NO,3,NO,NO,YES,NO,NO\\nID12264,21,FEMALE,TOWN,7549.38,NO,1,YES,NO,YES,NO,NO\\nID12265,40,FEMALE,INNER_CITY,24904.0,YES,0,NO,NO,NO,NO,NO\\nID12266,26,MALE,RURAL,24071.8,YES,1,NO,NO,YES,YES,YES\\nID12267,20,MALE,TOWN,9589.91,NO,1,NO,YES,YES,YES,NO\\nID12268,24,MALE,INNER_CITY,8562.86,NO,1,NO,NO,NO,YES,NO\\nID12269,37,FEMALE,TOWN,26707.5,NO,0,YES,YES,YES,NO,NO\\nID12270,56,MALE,INNER_CITY,34020.5,YES,0,NO,NO,YES,NO,NO\\nID12271,52,MALE,INNER_CITY,49175.7,YES,0,YES,YES,YES,NO,NO\\nID12272,22,MALE,INNER_CITY,19726.3,YES,2,NO,NO,YES,NO,NO\\nID12273,35,MALE,INNER_CITY,24346.6,YES,3,YES,YES,YES,NO,NO\\nID12274,34,MALE,RURAL,26999.4,YES,1,YES,YES,YES,NO,YES\\nID12275,67,FEMALE,TOWN,41558.1,YES,2,NO,YES,YES,NO,YES\\nID12276,58,FEMALE,INNER_CITY,56340.3,NO,0,NO,YES,YES,NO,YES\\nID12277,40,MALE,TOWN,37558.5,YES,0,YES,YES,YES,NO,NO\\nID12278,41,FEMALE,INNER_CITY,30099.3,YES,0,YES,YES,YES,YES,YES\\nID12279,43,MALE,INNER_CITY,15254.8,YES,0,NO,NO,NO,NO,YES\\nID12280,63,MALE,INNER_CITY,36086.1,YES,2,NO,NO,YES,NO,YES\\nID12281,22,FEMALE,INNER_CITY,17655.0,YES,1,NO,YES,YES,YES,YES\\nID12282,60,MALE,RURAL,56658.9,NO,0,NO,YES,YES,NO,YES\\nID12283,65,FEMALE,INNER_CITY,37706.5,NO,0,YES,YES,YES,YES,NO\\nID12284,48,FEMALE,INNER_CITY,18516.0,YES,2,YES,YES,YES,YES,NO\\nID12285,38,FEMALE,INNER_CITY,29622.0,NO,0,YES,YES,NO,YES,NO\\nID12286,49,MALE,RURAL,32669.9,YES,1,YES,YES,YES,YES,YES\\nID12287,20,FEMALE,INNER_CITY,18275.5,YES,0,NO,NO,NO,YES,YES\\nID12288,48,FEMALE,TOWN,34410.0,YES,1,NO,NO,YES,NO,YES\\nID12289,38,MALE,INNER_CITY,34866.9,YES,2,YES,NO,YES,YES,NO\\nID12290,41,FEMALE,INNER_CITY,21796.6,YES,0,NO,NO,YES,NO,NO\\nID12291,67,FEMALE,SUBURBAN,63130.1,YES,2,YES,YES,YES,NO,YES\\nID12292,39,MALE,INNER_CITY,14996.4,YES,1,YES,YES,NO,NO,NO\\nID12293,64,FEMALE,RURAL,49024.9,YES,3,NO,YES,YES,NO,YES\\nID12294,41,MALE,INNER_CITY,16249.8,YES,0,YES,NO,YES,YES,YES\\nID12295,55,MALE,SUBURBAN,36192.1,YES,2,YES,NO,YES,NO,YES\\nID12296,52,MALE,INNER_CITY,17839.9,YES,1,NO,YES,NO,YES,YES\\nID12297,30,FEMALE,INNER_CITY,18802.4,NO,0,NO,NO,YES,YES,YES\\nID12298,52,MALE,INNER_CITY,48720.3,YES,2,YES,YES,YES,NO,YES\\nID12299,26,MALE,INNER_CITY,14585.9,NO,2,NO,NO,YES,YES,NO\\nID12300,26,FEMALE,INNER_CITY,20819.0,YES,0,NO,YES,YES,NO,YES\\nID12301,46,MALE,TOWN,26077.8,YES,1,YES,YES,YES,NO,YES\\nID12302,46,FEMALE,TOWN,41627.1,YES,0,NO,YES,YES,YES,NO\\nID12303,52,MALE,INNER_CITY,16977.3,YES,0,NO,NO,YES,NO,NO\\nID12304,37,MALE,INNER_CITY,19012.8,NO,3,YES,NO,YES,NO,NO\\nID12305,22,MALE,INNER_CITY,12764.8,YES,1,NO,YES,YES,YES,YES\\nID12306,18,MALE,INNER_CITY,14388.6,NO,0,YES,NO,YES,YES,YES\\nID12307,63,MALE,INNER_CITY,59409.1,NO,0,YES,YES,YES,NO,YES\\nID12308,25,FEMALE,INNER_CITY,14960.2,YES,0,NO,YES,YES,YES,NO\\nID12309,67,MALE,INNER_CITY,39666.6,YES,0,YES,YES,YES,NO,NO\\nID12310,27,MALE,INNER_CITY,20771.9,NO,0,NO,YES,NO,NO,YES\\nID12311,61,MALE,INNER_CITY,24474.1,NO,0,YES,NO,NO,NO,YES\\nID12312,58,MALE,TOWN,33123.7,YES,1,YES,YES,YES,NO,YES\\nID12313,22,MALE,INNER_CITY,14433.4,YES,0,YES,YES,YES,NO,YES\\nID12314,28,MALE,TOWN,13175.5,NO,1,NO,NO,YES,NO,YES\\nID12315,23,MALE,INNER_CITY,9824.37,YES,0,NO,YES,YES,NO,NO\\nID12316,27,MALE,SUBURBAN,17610.3,YES,0,NO,YES,YES,NO,NO\\nID12317,27,FEMALE,SUBURBAN,15156.2,YES,0,YES,NO,YES,NO,NO\\nID12318,40,FEMALE,INNER_CITY,31774.1,YES,3,YES,YES,YES,YES,NO\\nID12319,39,MALE,TOWN,31693.5,NO,0,YES,YES,NO,NO,YES\\nID12320,35,FEMALE,INNER_CITY,28598.7,YES,0,YES,YES,YES,NO,NO\\nID12321,37,FEMALE,INNER_CITY,26261.7,NO,2,YES,NO,NO,NO,NO\\nID12322,47,MALE,INNER_CITY,42124.1,YES,2,NO,YES,YES,NO,YES\\nID12323,42,FEMALE,INNER_CITY,39308.7,YES,1,NO,YES,YES,NO,YES\\nID12324,67,FEMALE,INNER_CITY,43530.0,YES,0,NO,YES,YES,YES,NO\\nID12325,57,MALE,RURAL,49874.4,YES,3,NO,YES,YES,NO,YES\\nID12326,47,FEMALE,RURAL,27434.8,NO,0,YES,YES,YES,NO,YES\\nID12327,67,MALE,INNER_CITY,50474.6,YES,2,YES,YES,YES,NO,YES\\nID12328,56,MALE,TOWN,24888.2,NO,0,NO,YES,YES,NO,YES\\nID12329,37,MALE,RURAL,28021.6,NO,0,YES,NO,YES,YES,YES\\nID12330,27,MALE,INNER_CITY,12279.5,NO,0,YES,NO,NO,NO,YES\\nID12331,59,FEMALE,INNER_CITY,30189.4,YES,0,YES,NO,YES,YES,YES\\nID12332,31,MALE,INNER_CITY,28969.4,NO,1,NO,NO,YES,YES,NO\\nID12333,31,MALE,SUBURBAN,14058.5,YES,0,NO,NO,YES,YES,YES\\nID12334,32,FEMALE,TOWN,30404.3,YES,0,YES,YES,YES,NO,NO\\nID12335,57,FEMALE,RURAL,41438.2,NO,3,NO,YES,NO,NO,NO\\nID12336,49,FEMALE,INNER_CITY,16711.3,NO,1,NO,YES,YES,YES,YES\\nID12337,65,MALE,TOWN,52255.9,NO,2,YES,YES,YES,NO,YES\\nID12338,22,FEMALE,INNER_CITY,17866.9,YES,2,NO,YES,YES,YES,NO\\nID12339,26,FEMALE,RURAL,18067.5,YES,2,NO,YES,NO,NO,NO\\nID12340,23,MALE,INNER_CITY,12823.7,YES,0,YES,YES,YES,NO,NO\\nID12341,26,FEMALE,RURAL,11299.3,YES,2,YES,NO,NO,NO,NO\\nID12342,59,FEMALE,INNER_CITY,56031.1,NO,0,YES,YES,YES,NO,YES\\nID12343,67,MALE,INNER_CITY,35263.5,YES,1,YES,YES,YES,NO,YES\\nID12344,34,FEMALE,INNER_CITY,19968.1,YES,0,YES,YES,YES,NO,NO\\nID12345,50,MALE,RURAL,27825.5,YES,2,YES,YES,NO,NO,NO\\nID12346,46,MALE,SUBURBAN,37773.9,NO,0,YES,YES,YES,YES,NO\\nID12347,23,FEMALE,INNER_CITY,7606.25,NO,3,YES,NO,NO,NO,NO\\nID12348,26,MALE,RURAL,21384.4,YES,0,NO,NO,YES,NO,NO\\nID12349,40,MALE,TOWN,20347.0,YES,3,NO,YES,YES,NO,NO\\nID12350,36,MALE,TOWN,21332.3,YES,3,YES,NO,YES,NO,NO\\nID12351,65,MALE,INNER_CITY,57671.7,NO,0,NO,YES,YES,YES,NO\\nID12352,45,FEMALE,TOWN,36057.8,YES,1,YES,YES,YES,YES,YES\\nID12353,23,MALE,INNER_CITY,14290.5,YES,2,NO,NO,YES,YES,NO\\nID12354,42,FEMALE,TOWN,17882.9,YES,1,NO,NO,NO,NO,YES\\nID12355,21,FEMALE,RURAL,10629.1,NO,3,NO,YES,YES,YES,NO\\nID12356,62,FEMALE,INNER_CITY,24262.8,NO,0,YES,NO,YES,NO,YES\\nID12357,49,FEMALE,SUBURBAN,26097.9,NO,2,NO,YES,YES,NO,NO\\nID12358,28,FEMALE,TOWN,23371.0,YES,2,NO,NO,YES,YES,NO\\nID12359,38,FEMALE,TOWN,21495.6,NO,3,NO,NO,YES,YES,NO\\nID12360,36,MALE,TOWN,12166.9,NO,0,NO,NO,NO,NO,NO\\nID12361,22,MALE,SUBURBAN,17180.2,YES,0,NO,YES,YES,NO,NO\\nID12362,40,FEMALE,TOWN,28882.3,YES,1,NO,YES,YES,YES,YES\\nID12363,40,FEMALE,TOWN,21612.2,YES,0,NO,NO,YES,NO,NO\\nID12364,60,FEMALE,INNER_CITY,46358.4,YES,0,YES,YES,YES,YES,NO\\nID12365,23,MALE,INNER_CITY,19166.0,NO,0,YES,YES,NO,NO,YES\\nID12366,21,MALE,INNER_CITY,17921.8,YES,1,YES,NO,NO,NO,YES\\nID12367,58,MALE,TOWN,33229.0,NO,0,YES,YES,YES,NO,YES\\nID12368,48,FEMALE,SUBURBAN,30396.1,NO,0,NO,YES,YES,NO,YES\\nID12369,63,FEMALE,TOWN,34625.2,YES,0,YES,NO,YES,NO,NO\\nID12370,20,MALE,TOWN,16672.8,NO,3,YES,NO,YES,YES,NO\\nID12371,67,FEMALE,SUBURBAN,60747.5,NO,2,NO,YES,YES,YES,YES\\nID12372,62,FEMALE,INNER_CITY,56394.3,NO,0,YES,YES,YES,NO,YES\\nID12373,36,MALE,TOWN,13236.4,YES,0,NO,YES,YES,NO,NO\\nID12374,31,MALE,INNER_CITY,28409.4,YES,1,YES,NO,YES,NO,YES\\nID12375,42,FEMALE,INNER_CITY,27056.5,YES,0,YES,YES,YES,NO,NO\\nID12376,18,MALE,RURAL,9362.58,YES,0,YES,NO,YES,YES,YES\\nID12377,46,FEMALE,SUBURBAN,28702.7,NO,1,NO,YES,YES,YES,YES\\nID12378,25,MALE,TOWN,22366.1,YES,1,YES,YES,YES,NO,YES\\nID12379,65,FEMALE,RURAL,24477.5,NO,0,NO,YES,NO,YES,NO\\nID12380,40,MALE,TOWN,36972.4,YES,1,NO,NO,YES,YES,YES\\nID12381,32,MALE,INNER_CITY,22327.8,YES,1,NO,NO,NO,NO,YES\\nID12382,18,FEMALE,INNER_CITY,15610.2,YES,0,NO,YES,YES,NO,NO\\nID12383,64,MALE,INNER_CITY,54314.5,YES,1,YES,YES,NO,NO,YES\\nID12384,43,FEMALE,INNER_CITY,39175.8,YES,3,NO,YES,YES,YES,NO\\nID12385,22,FEMALE,INNER_CITY,13739.0,YES,3,NO,YES,YES,NO,NO\\nID12386,25,MALE,TOWN,9485.84,YES,0,NO,NO,NO,NO,NO\\nID12387,39,MALE,INNER_CITY,24675.7,YES,1,YES,YES,YES,YES,YES\\nID12388,58,FEMALE,INNER_CITY,28253.6,YES,3,NO,NO,YES,NO,NO\\nID12389,33,MALE,INNER_CITY,14136.5,YES,1,NO,YES,NO,NO,NO\\nID12390,52,FEMALE,RURAL,37162.1,YES,1,YES,YES,YES,NO,YES\\nID12391,23,MALE,INNER_CITY,13519.2,NO,0,NO,YES,YES,NO,YES\\nID12392,44,FEMALE,INNER_CITY,39253.6,NO,0,YES,YES,NO,NO,YES\\nID12393,51,MALE,RURAL,46323.8,YES,2,YES,YES,YES,YES,YES\\nID12394,26,FEMALE,TOWN,20950.7,YES,0,NO,YES,YES,NO,NO\\nID12395,42,MALE,TOWN,22495.7,YES,0,NO,YES,NO,YES,NO\\nID12396,34,MALE,TOWN,32548.9,YES,0,YES,YES,YES,YES,NO\\nID12397,54,FEMALE,RURAL,24583.4,NO,2,YES,YES,YES,YES,NO\\nID12398,18,MALE,RURAL,8639.24,YES,2,NO,NO,NO,NO,NO\\nID12399,47,FEMALE,INNER_CITY,17139.5,NO,2,YES,NO,YES,NO,NO\\nID12400,24,FEMALE,INNER_CITY,13667.7,YES,0,NO,YES,YES,NO,NO\\nID12401,19,FEMALE,INNER_CITY,8162.42,YES,1,YES,YES,YES,YES,NO\\nID12402,37,FEMALE,TOWN,15349.6,YES,0,NO,YES,NO,NO,NO\\nID12403,45,FEMALE,TOWN,29231.4,YES,0,NO,YES,NO,NO,NO\\nID12404,49,MALE,RURAL,41462.3,YES,3,NO,YES,YES,YES,NO\\nID12405,67,FEMALE,RURAL,57398.1,NO,3,NO,YES,YES,NO,YES\\nID12406,35,FEMALE,RURAL,11520.8,YES,0,NO,NO,YES,NO,NO\\nID12407,63,MALE,INNER_CITY,52117.3,NO,2,YES,YES,YES,NO,YES\\nID12408,38,MALE,RURAL,26281.4,NO,0,YES,YES,YES,NO,YES\\nID12409,48,MALE,TOWN,25683.4,NO,2,YES,YES,YES,NO,NO\\nID12410,28,FEMALE,INNER_CITY,11920.7,NO,1,NO,YES,YES,NO,NO\\nID12411,46,MALE,TOWN,30658.7,YES,0,NO,YES,YES,NO,NO\\nID12412,66,MALE,INNER_CITY,36646.4,NO,1,NO,YES,YES,NO,YES\\nID12413,61,FEMALE,TOWN,30760.4,NO,2,YES,NO,YES,NO,YES\\nID12414,18,FEMALE,RURAL,16109.9,NO,2,YES,YES,YES,NO,NO\\nID12415,54,FEMALE,TOWN,18036.7,YES,0,YES,YES,NO,NO,NO\\nID12416,45,MALE,RURAL,42628.3,NO,0,YES,YES,YES,YES,NO\\nID12417,60,MALE,INNER_CITY,22110.1,NO,2,YES,YES,YES,NO,NO\\nID12418,45,FEMALE,TOWN,37689.1,NO,1,NO,YES,YES,YES,YES\\nID12419,31,FEMALE,INNER_CITY,23171.8,NO,2,NO,YES,NO,NO,NO\\nID12420,39,MALE,SUBURBAN,21951.3,NO,0,YES,YES,YES,YES,NO\\nID12421,53,MALE,INNER_CITY,38103.4,NO,2,YES,YES,YES,NO,YES\\nID12422,35,MALE,RURAL,22882.9,YES,0,YES,NO,NO,YES,YES\\nID12423,25,FEMALE,TOWN,11043.7,YES,1,YES,YES,NO,YES,NO\\nID12424,32,MALE,TOWN,24027.6,NO,0,NO,YES,YES,NO,YES\\nID12425,36,MALE,SUBURBAN,28495.1,YES,0,NO,YES,YES,NO,NO\\nID12426,24,FEMALE,TOWN,9465.21,NO,0,NO,NO,YES,NO,YES\\nID12427,39,MALE,INNER_CITY,34852.3,YES,1,NO,YES,NO,YES,YES\\nID12428,24,MALE,INNER_CITY,21268.4,YES,0,NO,NO,YES,YES,YES\\nID12429,57,FEMALE,RURAL,50849.2,NO,1,NO,YES,NO,YES,YES\\nID12430,27,FEMALE,TOWN,18555.9,YES,3,NO,NO,YES,NO,NO\\nID12431,66,FEMALE,RURAL,52769.9,YES,3,YES,YES,YES,NO,YES\\nID12432,18,FEMALE,INNER_CITY,11601.4,YES,2,NO,YES,YES,YES,NO\\nID12433,33,FEMALE,TOWN,29541.7,YES,0,NO,YES,NO,NO,NO\\nID12434,48,MALE,SUBURBAN,17861.0,YES,2,NO,YES,YES,NO,NO\\nID12435,23,FEMALE,SUBURBAN,21042.0,YES,1,NO,NO,YES,NO,YES\\nID12436,44,MALE,TOWN,26688.1,YES,1,NO,YES,NO,YES,YES\\nID12437,39,MALE,INNER_CITY,26900.6,YES,2,NO,NO,NO,YES,NO\\nID12438,65,MALE,INNER_CITY,38080.9,YES,1,YES,YES,NO,YES,NO\\nID12439,60,MALE,SUBURBAN,37554.1,YES,2,YES,YES,YES,YES,YES\\nID12440,20,MALE,INNER_CITY,18184.6,YES,0,NO,NO,YES,YES,YES\\nID12441,45,FEMALE,SUBURBAN,28864.9,YES,0,NO,YES,YES,NO,NO\\nID12442,66,MALE,RURAL,48346.1,YES,1,YES,YES,NO,NO,YES\\nID12443,64,MALE,INNER_CITY,53104.3,YES,0,YES,YES,YES,NO,NO\\nID12444,51,FEMALE,INNER_CITY,19416.8,YES,0,NO,YES,YES,NO,NO\\nID12445,34,MALE,RURAL,23638.1,YES,2,YES,YES,YES,NO,NO\\nID12446,65,FEMALE,TOWN,42378.2,YES,1,NO,YES,YES,NO,YES\\nID12447,50,MALE,RURAL,39745.3,YES,0,YES,YES,NO,YES,NO\\nID12448,66,FEMALE,INNER_CITY,45189.8,YES,0,NO,YES,NO,NO,NO\\nID12449,63,MALE,INNER_CITY,37930.9,YES,0,NO,YES,NO,YES,NO\\nID12450,53,FEMALE,INNER_CITY,24042.0,NO,1,NO,NO,YES,NO,YES\\nID12451,33,FEMALE,INNER_CITY,31207.1,NO,0,YES,NO,YES,YES,YES\\nID12452,38,MALE,TOWN,24424.3,YES,0,NO,YES,YES,YES,NO\\nID12453,56,FEMALE,RURAL,24607.8,NO,1,NO,YES,YES,YES,NO\\nID12454,48,MALE,TOWN,43057.0,NO,1,YES,YES,YES,NO,YES\\nID12455,49,FEMALE,SUBURBAN,30198.5,YES,0,YES,NO,YES,YES,YES\\nID12456,54,FEMALE,RURAL,50186.1,YES,2,NO,YES,YES,YES,YES\\nID12457,41,FEMALE,SUBURBAN,22916.1,YES,0,NO,NO,YES,NO,NO\\nID12458,19,MALE,RURAL,9592.73,NO,0,NO,YES,YES,NO,YES\\nID12459,52,FEMALE,INNER_CITY,34253.6,NO,3,YES,NO,YES,NO,NO\\nID12460,52,FEMALE,INNER_CITY,22792.3,YES,1,YES,YES,NO,NO,YES\\nID12461,64,FEMALE,TOWN,51620.8,NO,2,YES,YES,YES,NO,YES\\nID12462,56,MALE,TOWN,19918.9,YES,3,NO,YES,YES,YES,NO\\nID12463,56,MALE,TOWN,29625.1,YES,2,NO,NO,YES,NO,NO\\nID12464,19,FEMALE,TOWN,12549.0,YES,0,NO,YES,YES,NO,NO\\nID12465,56,FEMALE,TOWN,51299.3,YES,1,YES,YES,NO,NO,YES\\nID12466,27,MALE,INNER_CITY,17364.8,YES,2,YES,YES,NO,NO,YES\\nID12467,59,FEMALE,INNER_CITY,29866.9,NO,1,YES,NO,YES,NO,YES\\nID12468,56,MALE,INNER_CITY,47750.2,YES,0,YES,YES,YES,YES,NO\\nID12469,21,MALE,TOWN,11281.5,YES,0,NO,YES,YES,YES,NO\\nID12470,64,MALE,INNER_CITY,34073.8,YES,3,NO,YES,NO,YES,NO\\nID12471,62,MALE,INNER_CITY,46870.4,YES,0,NO,YES,YES,NO,NO\\nID12472,44,FEMALE,INNER_CITY,38453.7,NO,2,NO,YES,YES,NO,YES\\nID12473,24,FEMALE,INNER_CITY,7756.36,NO,0,NO,NO,NO,NO,YES\\nID12474,52,FEMALE,INNER_CITY,28413.8,YES,0,NO,NO,YES,NO,NO\\nID12475,67,FEMALE,SUBURBAN,47198.6,YES,2,NO,YES,YES,NO,YES\\nID12476,41,MALE,INNER_CITY,20866.3,YES,0,YES,YES,YES,NO,NO\\nID12477,58,FEMALE,TOWN,33204.3,NO,1,NO,NO,NO,YES,YES\\nID12478,40,MALE,INNER_CITY,24823.5,NO,2,NO,NO,YES,NO,NO\\nID12479,19,MALE,SUBURBAN,17986.8,YES,0,NO,NO,YES,YES,YES\\nID12480,20,FEMALE,INNER_CITY,9909.82,YES,3,NO,NO,YES,NO,NO\\nID12481,56,FEMALE,TOWN,26542.8,NO,0,YES,YES,YES,NO,YES\\nID12482,46,FEMALE,INNER_CITY,32583.5,YES,2,YES,YES,YES,NO,NO\\nID12483,30,MALE,INNER_CITY,14606.6,YES,1,NO,NO,YES,NO,NO\\nID12484,40,FEMALE,TOWN,34836.8,YES,1,YES,YES,YES,NO,YES\\nID12485,36,FEMALE,TOWN,26920.8,YES,0,NO,NO,YES,NO,NO\\nID12486,57,FEMALE,INNER_CITY,38248.3,NO,3,YES,NO,YES,YES,NO\\nID12487,49,MALE,INNER_CITY,15689.1,NO,0,NO,NO,YES,NO,NO\\nID12488,61,MALE,INNER_CITY,30157.7,NO,1,YES,NO,NO,NO,YES\\nID12489,29,MALE,INNER_CITY,14642.2,NO,0,YES,NO,YES,NO,YES\\nID12490,48,FEMALE,INNER_CITY,15933.3,YES,0,NO,YES,NO,NO,NO\\nID12491,56,FEMALE,INNER_CITY,44288.3,YES,0,NO,YES,YES,NO,NO\\nID12492,40,MALE,TOWN,22197.1,NO,0,YES,NO,YES,NO,YES\\nID12493,58,FEMALE,TOWN,38248.3,YES,3,YES,YES,NO,NO,NO\\nID12494,60,FEMALE,INNER_CITY,22053.2,YES,2,YES,YES,NO,YES,NO\\nID12495,58,FEMALE,SUBURBAN,25468.5,NO,0,YES,NO,NO,YES,YES\\nID12496,67,FEMALE,TOWN,23485.9,YES,3,YES,NO,NO,YES,NO\\nID12497,40,MALE,RURAL,25768.6,YES,0,YES,YES,NO,NO,NO\\nID12498,48,MALE,INNER_CITY,34182.2,YES,2,NO,YES,YES,NO,YES\\nID12499,64,FEMALE,INNER_CITY,57444.5,NO,1,NO,YES,YES,NO,YES\\nID12500,43,MALE,TOWN,38059.8,YES,0,YES,YES,NO,YES,NO\\nID12501,34,FEMALE,RURAL,19481.3,NO,0,NO,NO,YES,YES,YES\\nID12502,26,MALE,RURAL,19563.8,NO,3,YES,NO,NO,YES,NO\\nID12503,48,MALE,INNER_CITY,38598.4,YES,0,YES,NO,YES,NO,NO\\nID12504,35,MALE,INNER_CITY,20754.3,NO,0,NO,NO,NO,YES,YES\\nID12505,24,FEMALE,INNER_CITY,13864.6,YES,3,NO,YES,YES,NO,YES\\nID12506,47,MALE,SUBURBAN,36599.0,YES,3,YES,YES,YES,NO,YES\\nID12507,52,MALE,SUBURBAN,45856.1,NO,1,NO,YES,YES,NO,YES\\nID12508,31,MALE,SUBURBAN,22362.3,NO,0,NO,YES,YES,NO,YES\\nID12509,41,FEMALE,SUBURBAN,21984.0,YES,1,YES,NO,NO,NO,YES\\nID12510,23,MALE,SUBURBAN,11073.0,YES,2,NO,YES,NO,NO,NO\\nID12511,27,FEMALE,INNER_CITY,18158.5,NO,1,YES,NO,YES,YES,YES\\nID12512,22,MALE,INNER_CITY,7304.2,NO,0,YES,YES,YES,YES,NO\\nID12513,67,FEMALE,INNER_CITY,58092.0,NO,2,YES,YES,YES,NO,YES\\nID12514,26,FEMALE,INNER_CITY,16518.6,YES,0,YES,NO,YES,NO,YES\\nID12515,58,FEMALE,SUBURBAN,46461.5,YES,0,NO,YES,YES,NO,NO\\nID12516,27,MALE,RURAL,20058.7,YES,0,NO,YES,YES,YES,NO\\nID12517,36,MALE,INNER_CITY,12533.2,NO,1,NO,YES,NO,YES,NO\\nID12518,31,MALE,RURAL,22848.5,YES,1,YES,NO,NO,NO,YES\\nID12519,28,FEMALE,TOWN,25699.4,YES,2,YES,YES,NO,NO,YES\\nID12520,57,MALE,TOWN,21612.6,YES,0,NO,YES,YES,YES,NO\\nID12521,64,MALE,INNER_CITY,48950.9,YES,0,YES,YES,YES,YES,NO\\nID12522,49,MALE,INNER_CITY,41438.0,NO,1,NO,YES,NO,NO,YES\\nID12523,22,MALE,INNER_CITY,11411.0,YES,1,YES,NO,YES,NO,NO\\nID12524,58,FEMALE,INNER_CITY,43940.6,YES,0,YES,YES,YES,NO,NO\\nID12525,20,MALE,TOWN,17239.5,NO,1,YES,NO,YES,NO,YES\\nID12526,44,FEMALE,RURAL,30488.7,YES,0,NO,YES,YES,NO,NO\\nID12527,65,FEMALE,TOWN,29866.3,YES,3,NO,YES,NO,NO,NO\\nID12528,53,FEMALE,INNER_CITY,32184.4,YES,2,YES,NO,NO,NO,YES\\nID12529,34,FEMALE,INNER_CITY,17308.7,YES,1,YES,NO,YES,YES,YES\\nID12530,35,MALE,RURAL,27863.9,NO,2,NO,YES,YES,YES,NO\\nID12531,48,MALE,TOWN,28920.6,YES,0,NO,YES,NO,YES,NO\\nID12532,64,FEMALE,TOWN,58367.3,YES,1,YES,YES,YES,NO,YES\\nID12533,46,MALE,TOWN,16849.3,NO,0,YES,YES,YES,YES,NO\\nID12534,42,FEMALE,RURAL,28138.5,YES,0,NO,NO,YES,YES,YES\\nID12535,47,MALE,INNER_CITY,23038.2,YES,0,YES,YES,NO,NO,NO\\nID12536,23,MALE,TOWN,11736.9,NO,2,YES,YES,YES,YES,NO\\nID12537,35,MALE,INNER_CITY,16479.5,YES,0,YES,NO,NO,YES,YES\\nID12538,64,FEMALE,INNER_CITY,31415.7,NO,1,YES,YES,NO,YES,YES\\nID12539,18,FEMALE,SUBURBAN,12117.3,YES,1,NO,NO,YES,NO,NO\\nID12540,19,MALE,INNER_CITY,15417.1,YES,1,YES,NO,YES,NO,NO\\nID12541,40,MALE,INNER_CITY,29414.6,YES,1,NO,YES,NO,YES,YES\\nID12542,47,MALE,INNER_CITY,44682.1,YES,0,YES,YES,YES,NO,NO\\nID12543,43,FEMALE,RURAL,36281.0,YES,0,YES,YES,YES,NO,NO\\nID12544,38,MALE,TOWN,33302.8,NO,0,YES,NO,YES,YES,YES\\nID12545,21,FEMALE,RURAL,15797.1,YES,0,NO,YES,YES,NO,YES\\nID12546,40,MALE,RURAL,31864.8,YES,0,YES,YES,YES,NO,NO\\nID12547,52,FEMALE,TOWN,43719.5,YES,0,NO,YES,YES,NO,NO\\nID12548,35,FEMALE,TOWN,30799.5,YES,2,NO,NO,YES,NO,YES\\nID12549,53,MALE,RURAL,48971.6,YES,3,YES,YES,NO,NO,YES\\nID12550,38,FEMALE,RURAL,34061.4,NO,0,YES,YES,YES,NO,YES\\nID12551,42,MALE,INNER_CITY,28938.6,YES,3,YES,NO,NO,NO,NO\\nID12552,43,MALE,TOWN,38540.0,NO,0,YES,YES,NO,YES,NO\\nID12553,59,FEMALE,INNER_CITY,27045.1,NO,0,NO,NO,YES,NO,YES\\nID12554,59,FEMALE,RURAL,51284.3,NO,0,YES,YES,YES,YES,NO\\nID12555,24,MALE,INNER_CITY,16352.2,NO,0,NO,YES,YES,YES,NO\\nID12556,27,FEMALE,INNER_CITY,11866.4,YES,0,YES,YES,YES,NO,NO\\nID12557,32,FEMALE,TOWN,13267.6,YES,0,YES,YES,YES,YES,NO\\nID12558,65,FEMALE,INNER_CITY,61554.6,YES,0,NO,YES,YES,NO,NO\\nID12559,18,MALE,SUBURBAN,13700.2,NO,1,NO,YES,YES,NO,NO\\nID12560,66,MALE,TOWN,46963.9,YES,1,NO,YES,YES,NO,YES\\nID12561,41,MALE,INNER_CITY,23475.6,YES,0,YES,NO,YES,YES,YES\\nID12562,64,FEMALE,SUBURBAN,24554.1,YES,0,YES,YES,NO,YES,NO\\nID12563,23,FEMALE,INNER_CITY,18050.0,YES,0,YES,NO,YES,YES,YES\\nID12564,29,FEMALE,RURAL,15237.6,YES,2,YES,NO,YES,NO,NO\\nID12565,28,MALE,TOWN,20555.0,NO,0,YES,YES,YES,NO,YES\\nID12566,57,FEMALE,TOWN,28421.7,YES,2,YES,YES,YES,YES,NO\\nID12567,38,MALE,INNER_CITY,21876.5,YES,0,NO,NO,YES,NO,NO\\nID12568,34,FEMALE,SUBURBAN,12810.2,NO,3,NO,YES,YES,NO,YES\\nID12569,43,MALE,SUBURBAN,15109.4,YES,0,NO,NO,YES,NO,YES\\nID12570,63,MALE,TOWN,37414.7,NO,3,YES,YES,YES,NO,NO\\nID12571,62,FEMALE,INNER_CITY,41521.6,YES,0,NO,YES,YES,YES,NO\\nID12572,51,FEMALE,INNER_CITY,25372.8,YES,0,YES,YES,YES,NO,NO\\nID12573,61,MALE,INNER_CITY,21139.8,YES,2,YES,YES,NO,NO,NO\\nID12574,41,FEMALE,TOWN,27757.6,NO,0,NO,YES,YES,NO,YES\\nID12575,31,FEMALE,TOWN,22678.1,NO,1,YES,YES,YES,YES,YES\\nID12576,33,FEMALE,TOWN,12178.5,YES,2,NO,YES,YES,YES,NO\\nID12577,43,MALE,RURAL,26106.7,NO,1,NO,NO,YES,NO,YES\\nID12578,40,MALE,INNER_CITY,27417.6,YES,0,NO,YES,YES,YES,NO\\nID12579,47,MALE,TOWN,23337.2,YES,2,NO,YES,YES,YES,NO\\nID12580,46,MALE,TOWN,43395.5,NO,1,YES,YES,YES,NO,YES\\nID12581,30,MALE,RURAL,11536.2,YES,2,NO,NO,YES,YES,NO\\nID12582,47,MALE,INNER_CITY,44658.6,NO,2,YES,YES,YES,NO,YES\\nID12583,44,MALE,RURAL,32762.5,NO,0,NO,YES,YES,YES,NO\\nID12584,23,MALE,RURAL,16403.8,YES,0,YES,YES,NO,NO,NO\\nID12585,28,FEMALE,INNER_CITY,21184.7,YES,1,YES,YES,YES,NO,YES\\nID12586,64,FEMALE,INNER_CITY,49917.3,YES,0,YES,YES,YES,YES,NO\\nID12587,35,FEMALE,TOWN,21623.8,YES,0,NO,YES,NO,YES,NO\\nID12588,19,MALE,RURAL,16625.9,YES,1,NO,NO,YES,NO,YES\\nID12589,27,FEMALE,TOWN,14014.5,YES,3,NO,YES,NO,NO,NO\\nID12590,27,MALE,INNER_CITY,20409.3,YES,2,NO,YES,NO,NO,YES\\nID12591,58,FEMALE,INNER_CITY,31671.3,YES,1,YES,YES,NO,YES,YES\\nID12592,46,FEMALE,TOWN,17149.2,NO,1,YES,YES,YES,NO,YES\\nID12593,61,FEMALE,TOWN,27756.3,YES,0,YES,YES,NO,YES,YES\\nID12594,59,MALE,INNER_CITY,40949.9,NO,0,NO,YES,YES,NO,YES\\nID12595,47,FEMALE,RURAL,43743.2,YES,3,NO,YES,YES,NO,NO\\nID12596,44,MALE,INNER_CITY,38459.9,YES,0,NO,NO,NO,YES,YES\\nID12597,50,MALE,TOWN,40972.9,NO,2,YES,YES,YES,YES,YES\\nID12598,64,MALE,INNER_CITY,46587.9,NO,0,NO,YES,YES,NO,YES\\nID12599,51,FEMALE,TOWN,43799.6,NO,0,NO,YES,YES,YES,NO\\nID12600,46,FEMALE,TOWN,18912.2,YES,0,YES,NO,YES,NO,YES\\nID12601,39,FEMALE,INNER_CITY,27765.8,YES,3,YES,YES,NO,NO,NO\\nID12602,58,FEMALE,INNER_CITY,33007.3,NO,1,YES,NO,YES,NO,YES\\nID12603,32,FEMALE,TOWN,26325.3,YES,0,YES,NO,NO,NO,NO\\nID12604,22,FEMALE,INNER_CITY,15308.2,NO,0,YES,YES,YES,YES,NO\\nID12605,63,FEMALE,INNER_CITY,59805.6,YES,1,YES,YES,YES,NO,YES\\nID12606,35,FEMALE,TOWN,28658.3,YES,0,YES,YES,YES,NO,NO\\nID12607,59,FEMALE,INNER_CITY,23175.0,YES,0,NO,NO,NO,YES,YES\\nID12608,22,FEMALE,SUBURBAN,11595.4,NO,0,YES,YES,YES,NO,YES\\nID12609,60,MALE,SUBURBAN,50409.9,NO,2,NO,YES,YES,YES,YES\\nID12610,23,FEMALE,RURAL,11215.3,YES,2,YES,YES,YES,NO,YES\\nID12611,29,FEMALE,TOWN,13327.8,YES,0,NO,YES,NO,NO,NO\\nID12612,44,MALE,INNER_CITY,16088.8,YES,3,NO,YES,YES,NO,NO\\nID12613,63,FEMALE,TOWN,43943.0,YES,0,YES,YES,YES,YES,NO\\nID12614,25,FEMALE,RURAL,14505.3,NO,3,NO,YES,YES,NO,NO\\nID12615,37,MALE,INNER_CITY,33886.4,NO,0,YES,YES,NO,NO,YES\\nID12616,48,FEMALE,INNER_CITY,16662.5,YES,1,NO,YES,YES,NO,YES\\nID12617,35,FEMALE,TOWN,20262.6,NO,0,NO,YES,NO,NO,YES\\nID12618,51,MALE,TOWN,33615.4,YES,1,NO,YES,NO,YES,YES\\nID12619,27,FEMALE,TOWN,22007.1,NO,3,NO,NO,YES,NO,NO\\nID12620,56,FEMALE,INNER_CITY,28981.1,YES,3,YES,YES,YES,YES,NO\\nID12621,38,FEMALE,INNER_CITY,12163.9,YES,2,YES,NO,YES,NO,YES\\nID12622,36,FEMALE,TOWN,17247.7,YES,2,YES,YES,YES,NO,NO\\nID12623,27,MALE,SUBURBAN,12683.6,NO,3,NO,YES,YES,YES,NO\\nID12624,34,FEMALE,TOWN,16291.0,YES,0,YES,YES,NO,YES,NO\\nID12625,44,MALE,SUBURBAN,18707.3,YES,0,YES,YES,YES,YES,YES\\nID12626,43,FEMALE,INNER_CITY,19326.9,YES,1,NO,NO,YES,NO,YES\\nID12627,32,MALE,INNER_CITY,14511.8,NO,2,NO,YES,NO,YES,NO\\nID12628,21,FEMALE,TOWN,10672.0,NO,1,NO,YES,YES,YES,NO\\nID12629,30,FEMALE,INNER_CITY,25830.5,YES,2,NO,NO,YES,NO,NO\\nID12630,55,MALE,RURAL,43499.5,YES,1,YES,YES,YES,NO,NO\\nID12631,64,MALE,SUBURBAN,59175.1,YES,1,NO,YES,YES,NO,YES\\nID12632,36,FEMALE,INNER_CITY,27642.9,NO,1,YES,NO,NO,NO,YES\\nID12633,59,MALE,INNER_CITY,30067.5,NO,1,NO,YES,YES,NO,YES\\nID12634,60,MALE,INNER_CITY,29714.4,YES,0,YES,NO,YES,YES,YES\\nID12635,27,FEMALE,TOWN,13950.4,NO,1,YES,YES,YES,YES,NO\\nID12636,29,MALE,INNER_CITY,10072.6,YES,0,NO,NO,YES,NO,NO\\nID12637,53,FEMALE,INNER_CITY,37850.6,NO,1,NO,YES,YES,NO,YES\\nID12638,61,FEMALE,RURAL,57176.4,NO,2,NO,YES,YES,NO,YES\\nID12639,43,FEMALE,INNER_CITY,38784.0,YES,0,NO,YES,YES,NO,NO\\nID12640,19,MALE,INNER_CITY,10191.8,YES,0,NO,YES,YES,YES,YES\\nID12641,48,FEMALE,INNER_CITY,21821.4,YES,1,YES,YES,NO,YES,YES\\nID12642,39,MALE,RURAL,37389.0,YES,2,NO,YES,YES,NO,YES\\nID12643,32,MALE,INNER_CITY,14627.9,YES,2,YES,YES,YES,NO,NO\\nID12644,63,MALE,SUBURBAN,48770.5,YES,1,YES,YES,NO,YES,YES\\nID12645,46,MALE,RURAL,21096.2,YES,1,YES,YES,YES,NO,YES\\nID12646,40,MALE,INNER_CITY,36256.9,NO,0,NO,NO,YES,YES,YES\\nID12647,27,FEMALE,INNER_CITY,15281.8,NO,0,YES,NO,NO,YES,YES\\nID12648,22,MALE,SUBURBAN,9316.98,YES,2,YES,YES,YES,NO,NO\\nID12649,42,MALE,RURAL,20736.2,YES,1,YES,YES,YES,NO,YES\\nID12650,58,FEMALE,TOWN,52662.5,YES,1,YES,YES,YES,YES,YES\\nID12651,23,FEMALE,INNER_CITY,8020.19,YES,1,YES,NO,YES,NO,NO\\nID12652,58,MALE,SUBURBAN,32245.4,YES,3,NO,NO,NO,NO,NO\\nID12653,45,MALE,INNER_CITY,41107.2,YES,2,YES,YES,YES,NO,NO\\nID12654,49,FEMALE,SUBURBAN,39358.3,YES,0,YES,NO,NO,YES,NO\\nID12655,67,FEMALE,INNER_CITY,36095.9,YES,3,YES,YES,YES,NO,NO\\nID12656,20,FEMALE,TOWN,7723.93,YES,2,YES,YES,YES,NO,NO\\nID12657,43,FEMALE,RURAL,18565.8,YES,1,YES,YES,YES,YES,YES\\nID12658,41,MALE,RURAL,25132.9,YES,0,NO,NO,YES,NO,NO\\nID12659,38,FEMALE,SUBURBAN,31290.6,YES,0,NO,YES,YES,NO,NO\\nID12660,67,FEMALE,SUBURBAN,24858.4,YES,0,NO,NO,YES,YES,YES\\nID12661,40,MALE,INNER_CITY,16398.8,NO,1,NO,YES,YES,NO,YES\\nID12662,25,FEMALE,SUBURBAN,23287.9,NO,0,NO,NO,YES,YES,YES\\nID12663,57,FEMALE,RURAL,50897.6,YES,0,NO,YES,YES,NO,NO\\nID12664,32,FEMALE,INNER_CITY,22446.5,NO,1,NO,NO,YES,YES,YES\\nID12665,44,MALE,SUBURBAN,23092.1,YES,0,YES,NO,YES,YES,YES\\nID12666,30,MALE,TOWN,24867.6,YES,0,YES,YES,NO,NO,NO\\nID12667,43,MALE,TOWN,22234.7,YES,0,NO,NO,YES,YES,NO\\nID12668,19,FEMALE,INNER_CITY,17371.1,YES,2,YES,YES,YES,NO,NO\\nID12669,37,FEMALE,TOWN,29574.0,YES,0,YES,YES,YES,NO,NO\\nID12670,49,MALE,INNER_CITY,17944.2,NO,1,YES,YES,YES,YES,YES\\nID12671,49,FEMALE,RURAL,33665.5,NO,3,YES,NO,YES,NO,NO\\nID12672,40,MALE,INNER_CITY,36166.2,YES,0,NO,NO,NO,NO,NO\\nID12673,33,FEMALE,SUBURBAN,27712.9,NO,2,NO,YES,YES,NO,YES\\nID12674,39,MALE,TOWN,22400.7,YES,2,YES,YES,YES,NO,NO\\nID12675,43,FEMALE,INNER_CITY,28469.9,YES,0,YES,YES,YES,NO,NO\\nID12676,37,MALE,TOWN,30488.0,YES,0,NO,YES,YES,YES,NO\\nID12677,24,FEMALE,TOWN,19160.3,YES,1,YES,YES,YES,NO,YES\\nID12678,62,MALE,TOWN,45342.5,YES,0,YES,YES,NO,NO,YES\\nID12679,18,MALE,INNER_CITY,6294.21,NO,0,NO,YES,YES,YES,NO\\nID12680,47,FEMALE,TOWN,25127.7,YES,0,YES,NO,NO,NO,NO\\nID12681,63,MALE,SUBURBAN,51879.3,YES,2,YES,YES,NO,YES,YES\\nID12682,20,MALE,TOWN,12644.9,YES,2,YES,NO,YES,YES,NO\\nID12683,46,FEMALE,TOWN,21984.4,NO,3,NO,YES,NO,NO,NO\\nID12684,47,FEMALE,RURAL,29093.1,NO,2,YES,YES,YES,NO,NO\\nID12685,33,MALE,TOWN,23528.4,YES,1,NO,YES,YES,YES,YES\\nID12686,20,MALE,TOWN,9516.91,NO,3,YES,YES,YES,NO,NO\\nID12687,20,MALE,INNER_CITY,18364.9,YES,1,NO,NO,YES,NO,YES\\nID12688,43,FEMALE,TOWN,31273.8,NO,1,YES,YES,NO,NO,YES\\nID12689,58,MALE,RURAL,49673.6,YES,0,NO,YES,YES,NO,NO\\nID12690,29,MALE,SUBURBAN,12623.4,YES,1,YES,YES,YES,NO,NO\\nID12691,25,MALE,INNER_CITY,23818.6,YES,0,NO,NO,NO,NO,NO\\nID12692,40,FEMALE,INNER_CITY,31473.9,NO,2,NO,YES,YES,YES,YES\\nID12693,48,MALE,TOWN,20268.0,YES,0,NO,YES,YES,NO,NO\\nID12694,65,MALE,SUBURBAN,51417.0,YES,2,NO,YES,YES,NO,YES\\nID12695,59,FEMALE,RURAL,30971.8,YES,3,YES,YES,YES,YES,NO\\nID12696,61,FEMALE,INNER_CITY,47025.0,NO,2,YES,YES,YES,YES,NO\\nID12697,30,FEMALE,INNER_CITY,9672.25,YES,0,YES,YES,YES,NO,NO\\nID12698,31,FEMALE,TOWN,15976.3,YES,0,YES,YES,NO,NO,YES\\nID12699,29,MALE,INNER_CITY,14711.8,YES,0,NO,YES,NO,YES,NO\\nID12700,38,MALE,TOWN,26671.6,NO,0,YES,NO,YES,YES,YES\\n'}"
            ]
          },
          "metadata": {},
          "execution_count": 2
        }
      ]
    },
    {
      "cell_type": "code",
      "source": [
        "import pandas as pd\n",
        "import numpy as np\n",
        "import matplotlib.pyplot as plt"
      ],
      "metadata": {
        "id": "hPHx9WcsnSc2"
      },
      "execution_count": null,
      "outputs": []
    },
    {
      "cell_type": "code",
      "source": [
        "!ls"
      ],
      "metadata": {
        "colab": {
          "base_uri": "https://localhost:8080/"
        },
        "id": "m0EH7VqSno6p",
        "outputId": "93ebade1-c29c-4b9f-d026-e80ce0724cf4"
      },
      "execution_count": null,
      "outputs": [
        {
          "output_type": "stream",
          "name": "stdout",
          "text": [
            "bank-data.csv  sample_data\n"
          ]
        }
      ]
    },
    {
      "cell_type": "code",
      "source": [
        "dataset=pd.read_csv(\"bank-data.csv\")\n",
        "dataset.drop(['id'],axis=1,inplace=True)"
      ],
      "metadata": {
        "id": "48hS22FjnqTX"
      },
      "execution_count": null,
      "outputs": []
    },
    {
      "cell_type": "code",
      "source": [
        "dataset['sex']=dataset['sex'].astype('category')"
      ],
      "metadata": {
        "id": "_w2vQ_dln2tG"
      },
      "execution_count": null,
      "outputs": []
    },
    {
      "cell_type": "code",
      "source": [
        "data_type=dict(dataset.dtypes)\n",
        "cat_cols=[]\n",
        "for i in data_type:\n",
        "  if data_type.get(i)==\"object\":\n",
        "    cat_cols.append(i)\n"
      ],
      "metadata": {
        "id": "MIW3_Ncoo3FZ"
      },
      "execution_count": null,
      "outputs": []
    },
    {
      "cell_type": "code",
      "source": [
        "for i in cat_cols:\n",
        "  dataset[i] = dataset[i].astype('category')\n",
        "for i in cat_cols:\n",
        "  dataset[f\"{i}_cat\"] = dataset[i].cat.codes\n",
        "  dataset.drop(i,axis=1,inplace=True)"
      ],
      "metadata": {
        "id": "oidYX8d-p6Vo"
      },
      "execution_count": null,
      "outputs": []
    },
    {
      "cell_type": "code",
      "source": [
        "display(dataset)"
      ],
      "metadata": {
        "colab": {
          "base_uri": "https://localhost:8080/",
          "height": 424
        },
        "id": "yR8zhzPOnzsR",
        "outputId": "db784293-bf46-4978-c151-fb58bb6a971f"
      },
      "execution_count": null,
      "outputs": [
        {
          "output_type": "display_data",
          "data": {
            "text/plain": [
              "     age    income  children  region_cat  married_cat  car_cat  save_act_cat  \\\n",
              "0     48  17546.00         1           0            0        0             0   \n",
              "1     40  30085.10         3           3            1        1             0   \n",
              "2     51  16575.40         0           0            1        1             1   \n",
              "3     23  20375.40         3           3            1        0             0   \n",
              "4     57  50576.30         0           1            1        0             1   \n",
              "..   ...       ...       ...         ...          ...      ...           ...   \n",
              "595   61  47025.00         2           0            0        1             1   \n",
              "596   30   9672.25         0           0            1        1             1   \n",
              "597   31  15976.30         0           3            1        1             1   \n",
              "598   29  14711.80         0           0            1        0             1   \n",
              "599   38  26671.60         0           3            0        1             0   \n",
              "\n",
              "     current_act_cat  mortgage_cat  pep_cat  sex_cat  \n",
              "0                  0             0        1        0  \n",
              "1                  1             1        0        1  \n",
              "2                  1             0        0        0  \n",
              "3                  1             0        0        0  \n",
              "4                  0             0        0        0  \n",
              "..               ...           ...      ...      ...  \n",
              "595                1             1        0        0  \n",
              "596                1             0        0        0  \n",
              "597                0             0        1        0  \n",
              "598                0             1        0        1  \n",
              "599                1             1        1        1  \n",
              "\n",
              "[600 rows x 11 columns]"
            ],
            "text/html": [
              "\n",
              "  <div id=\"df-982496f8-1b6e-41d3-9be9-8694f04b37bf\">\n",
              "    <div class=\"colab-df-container\">\n",
              "      <div>\n",
              "<style scoped>\n",
              "    .dataframe tbody tr th:only-of-type {\n",
              "        vertical-align: middle;\n",
              "    }\n",
              "\n",
              "    .dataframe tbody tr th {\n",
              "        vertical-align: top;\n",
              "    }\n",
              "\n",
              "    .dataframe thead th {\n",
              "        text-align: right;\n",
              "    }\n",
              "</style>\n",
              "<table border=\"1\" class=\"dataframe\">\n",
              "  <thead>\n",
              "    <tr style=\"text-align: right;\">\n",
              "      <th></th>\n",
              "      <th>age</th>\n",
              "      <th>income</th>\n",
              "      <th>children</th>\n",
              "      <th>region_cat</th>\n",
              "      <th>married_cat</th>\n",
              "      <th>car_cat</th>\n",
              "      <th>save_act_cat</th>\n",
              "      <th>current_act_cat</th>\n",
              "      <th>mortgage_cat</th>\n",
              "      <th>pep_cat</th>\n",
              "      <th>sex_cat</th>\n",
              "    </tr>\n",
              "  </thead>\n",
              "  <tbody>\n",
              "    <tr>\n",
              "      <th>0</th>\n",
              "      <td>48</td>\n",
              "      <td>17546.00</td>\n",
              "      <td>1</td>\n",
              "      <td>0</td>\n",
              "      <td>0</td>\n",
              "      <td>0</td>\n",
              "      <td>0</td>\n",
              "      <td>0</td>\n",
              "      <td>0</td>\n",
              "      <td>1</td>\n",
              "      <td>0</td>\n",
              "    </tr>\n",
              "    <tr>\n",
              "      <th>1</th>\n",
              "      <td>40</td>\n",
              "      <td>30085.10</td>\n",
              "      <td>3</td>\n",
              "      <td>3</td>\n",
              "      <td>1</td>\n",
              "      <td>1</td>\n",
              "      <td>0</td>\n",
              "      <td>1</td>\n",
              "      <td>1</td>\n",
              "      <td>0</td>\n",
              "      <td>1</td>\n",
              "    </tr>\n",
              "    <tr>\n",
              "      <th>2</th>\n",
              "      <td>51</td>\n",
              "      <td>16575.40</td>\n",
              "      <td>0</td>\n",
              "      <td>0</td>\n",
              "      <td>1</td>\n",
              "      <td>1</td>\n",
              "      <td>1</td>\n",
              "      <td>1</td>\n",
              "      <td>0</td>\n",
              "      <td>0</td>\n",
              "      <td>0</td>\n",
              "    </tr>\n",
              "    <tr>\n",
              "      <th>3</th>\n",
              "      <td>23</td>\n",
              "      <td>20375.40</td>\n",
              "      <td>3</td>\n",
              "      <td>3</td>\n",
              "      <td>1</td>\n",
              "      <td>0</td>\n",
              "      <td>0</td>\n",
              "      <td>1</td>\n",
              "      <td>0</td>\n",
              "      <td>0</td>\n",
              "      <td>0</td>\n",
              "    </tr>\n",
              "    <tr>\n",
              "      <th>4</th>\n",
              "      <td>57</td>\n",
              "      <td>50576.30</td>\n",
              "      <td>0</td>\n",
              "      <td>1</td>\n",
              "      <td>1</td>\n",
              "      <td>0</td>\n",
              "      <td>1</td>\n",
              "      <td>0</td>\n",
              "      <td>0</td>\n",
              "      <td>0</td>\n",
              "      <td>0</td>\n",
              "    </tr>\n",
              "    <tr>\n",
              "      <th>...</th>\n",
              "      <td>...</td>\n",
              "      <td>...</td>\n",
              "      <td>...</td>\n",
              "      <td>...</td>\n",
              "      <td>...</td>\n",
              "      <td>...</td>\n",
              "      <td>...</td>\n",
              "      <td>...</td>\n",
              "      <td>...</td>\n",
              "      <td>...</td>\n",
              "      <td>...</td>\n",
              "    </tr>\n",
              "    <tr>\n",
              "      <th>595</th>\n",
              "      <td>61</td>\n",
              "      <td>47025.00</td>\n",
              "      <td>2</td>\n",
              "      <td>0</td>\n",
              "      <td>0</td>\n",
              "      <td>1</td>\n",
              "      <td>1</td>\n",
              "      <td>1</td>\n",
              "      <td>1</td>\n",
              "      <td>0</td>\n",
              "      <td>0</td>\n",
              "    </tr>\n",
              "    <tr>\n",
              "      <th>596</th>\n",
              "      <td>30</td>\n",
              "      <td>9672.25</td>\n",
              "      <td>0</td>\n",
              "      <td>0</td>\n",
              "      <td>1</td>\n",
              "      <td>1</td>\n",
              "      <td>1</td>\n",
              "      <td>1</td>\n",
              "      <td>0</td>\n",
              "      <td>0</td>\n",
              "      <td>0</td>\n",
              "    </tr>\n",
              "    <tr>\n",
              "      <th>597</th>\n",
              "      <td>31</td>\n",
              "      <td>15976.30</td>\n",
              "      <td>0</td>\n",
              "      <td>3</td>\n",
              "      <td>1</td>\n",
              "      <td>1</td>\n",
              "      <td>1</td>\n",
              "      <td>0</td>\n",
              "      <td>0</td>\n",
              "      <td>1</td>\n",
              "      <td>0</td>\n",
              "    </tr>\n",
              "    <tr>\n",
              "      <th>598</th>\n",
              "      <td>29</td>\n",
              "      <td>14711.80</td>\n",
              "      <td>0</td>\n",
              "      <td>0</td>\n",
              "      <td>1</td>\n",
              "      <td>0</td>\n",
              "      <td>1</td>\n",
              "      <td>0</td>\n",
              "      <td>1</td>\n",
              "      <td>0</td>\n",
              "      <td>1</td>\n",
              "    </tr>\n",
              "    <tr>\n",
              "      <th>599</th>\n",
              "      <td>38</td>\n",
              "      <td>26671.60</td>\n",
              "      <td>0</td>\n",
              "      <td>3</td>\n",
              "      <td>0</td>\n",
              "      <td>1</td>\n",
              "      <td>0</td>\n",
              "      <td>1</td>\n",
              "      <td>1</td>\n",
              "      <td>1</td>\n",
              "      <td>1</td>\n",
              "    </tr>\n",
              "  </tbody>\n",
              "</table>\n",
              "<p>600 rows × 11 columns</p>\n",
              "</div>\n",
              "      <button class=\"colab-df-convert\" onclick=\"convertToInteractive('df-982496f8-1b6e-41d3-9be9-8694f04b37bf')\"\n",
              "              title=\"Convert this dataframe to an interactive table.\"\n",
              "              style=\"display:none;\">\n",
              "        \n",
              "  <svg xmlns=\"http://www.w3.org/2000/svg\" height=\"24px\"viewBox=\"0 0 24 24\"\n",
              "       width=\"24px\">\n",
              "    <path d=\"M0 0h24v24H0V0z\" fill=\"none\"/>\n",
              "    <path d=\"M18.56 5.44l.94 2.06.94-2.06 2.06-.94-2.06-.94-.94-2.06-.94 2.06-2.06.94zm-11 1L8.5 8.5l.94-2.06 2.06-.94-2.06-.94L8.5 2.5l-.94 2.06-2.06.94zm10 10l.94 2.06.94-2.06 2.06-.94-2.06-.94-.94-2.06-.94 2.06-2.06.94z\"/><path d=\"M17.41 7.96l-1.37-1.37c-.4-.4-.92-.59-1.43-.59-.52 0-1.04.2-1.43.59L10.3 9.45l-7.72 7.72c-.78.78-.78 2.05 0 2.83L4 21.41c.39.39.9.59 1.41.59.51 0 1.02-.2 1.41-.59l7.78-7.78 2.81-2.81c.8-.78.8-2.07 0-2.86zM5.41 20L4 18.59l7.72-7.72 1.47 1.35L5.41 20z\"/>\n",
              "  </svg>\n",
              "      </button>\n",
              "      \n",
              "  <style>\n",
              "    .colab-df-container {\n",
              "      display:flex;\n",
              "      flex-wrap:wrap;\n",
              "      gap: 12px;\n",
              "    }\n",
              "\n",
              "    .colab-df-convert {\n",
              "      background-color: #E8F0FE;\n",
              "      border: none;\n",
              "      border-radius: 50%;\n",
              "      cursor: pointer;\n",
              "      display: none;\n",
              "      fill: #1967D2;\n",
              "      height: 32px;\n",
              "      padding: 0 0 0 0;\n",
              "      width: 32px;\n",
              "    }\n",
              "\n",
              "    .colab-df-convert:hover {\n",
              "      background-color: #E2EBFA;\n",
              "      box-shadow: 0px 1px 2px rgba(60, 64, 67, 0.3), 0px 1px 3px 1px rgba(60, 64, 67, 0.15);\n",
              "      fill: #174EA6;\n",
              "    }\n",
              "\n",
              "    [theme=dark] .colab-df-convert {\n",
              "      background-color: #3B4455;\n",
              "      fill: #D2E3FC;\n",
              "    }\n",
              "\n",
              "    [theme=dark] .colab-df-convert:hover {\n",
              "      background-color: #434B5C;\n",
              "      box-shadow: 0px 1px 3px 1px rgba(0, 0, 0, 0.15);\n",
              "      filter: drop-shadow(0px 1px 2px rgba(0, 0, 0, 0.3));\n",
              "      fill: #FFFFFF;\n",
              "    }\n",
              "  </style>\n",
              "\n",
              "      <script>\n",
              "        const buttonEl =\n",
              "          document.querySelector('#df-982496f8-1b6e-41d3-9be9-8694f04b37bf button.colab-df-convert');\n",
              "        buttonEl.style.display =\n",
              "          google.colab.kernel.accessAllowed ? 'block' : 'none';\n",
              "\n",
              "        async function convertToInteractive(key) {\n",
              "          const element = document.querySelector('#df-982496f8-1b6e-41d3-9be9-8694f04b37bf');\n",
              "          const dataTable =\n",
              "            await google.colab.kernel.invokeFunction('convertToInteractive',\n",
              "                                                     [key], {});\n",
              "          if (!dataTable) return;\n",
              "\n",
              "          const docLinkHtml = 'Like what you see? Visit the ' +\n",
              "            '<a target=\"_blank\" href=https://colab.research.google.com/notebooks/data_table.ipynb>data table notebook</a>'\n",
              "            + ' to learn more about interactive tables.';\n",
              "          element.innerHTML = '';\n",
              "          dataTable['output_type'] = 'display_data';\n",
              "          await google.colab.output.renderOutput(dataTable, element);\n",
              "          const docLink = document.createElement('div');\n",
              "          docLink.innerHTML = docLinkHtml;\n",
              "          element.appendChild(docLink);\n",
              "        }\n",
              "      </script>\n",
              "    </div>\n",
              "  </div>\n",
              "  "
            ]
          },
          "metadata": {}
        }
      ]
    },
    {
      "cell_type": "markdown",
      "source": [
        "##split and scale dataset"
      ],
      "metadata": {
        "id": "smiKnTu4rdf-"
      }
    },
    {
      "cell_type": "code",
      "execution_count": null,
      "metadata": {
        "id": "69LsGslPrtgc"
      },
      "outputs": [],
      "source": [
        "from sklearn.model_selection import train_test_split\n",
        "from sklearn.preprocessing import RobustScaler"
      ]
    },
    {
      "cell_type": "code",
      "execution_count": null,
      "metadata": {
        "id": "M0mSdmZWrtgd"
      },
      "outputs": [],
      "source": [
        "df=dataset.copy()"
      ]
    },
    {
      "cell_type": "code",
      "execution_count": null,
      "metadata": {
        "id": "53d5wvxmrtge"
      },
      "outputs": [],
      "source": [
        "x = df.drop(['pep_cat'], axis=1)\n",
        "# y=df['pep_cat']\n",
        "y = pd.get_dummies(df['pep_cat']).values\n",
        "#split the features and labels into  train and test data\n",
        "x_train, x_test, y_train, y_test = train_test_split(x, y, test_size=0.2, random_state=1)\n",
        "#rescale the data to be robust to outliers\n",
        "scaler = RobustScaler()\n",
        "scaler.fit(x_train)\n",
        "x_train = scaler.transform(x_train)\n",
        "x_test = scaler.transform(x_test)"
      ]
    },
    {
      "cell_type": "markdown",
      "source": [
        "##building model and predicting"
      ],
      "metadata": {
        "id": "s5OJ_rC_rlrU"
      }
    },
    {
      "cell_type": "code",
      "source": [
        "from tensorflow import keras\n",
        "from tensorflow.keras import Sequential\n",
        "from tensorflow.keras import layers\n",
        "from tensorflow.keras.layers import Dense\n",
        "from keras import backend as K\n",
        "import joblib\n",
        "from sklearn.metrics import classification_report\n"
      ],
      "metadata": {
        "id": "HR1EEH4gsDDl"
      },
      "execution_count": null,
      "outputs": []
    },
    {
      "cell_type": "code",
      "source": [
        "x_train.shape"
      ],
      "metadata": {
        "colab": {
          "base_uri": "https://localhost:8080/"
        },
        "id": "vTV9bM8-sWjc",
        "outputId": "f5fc6f37-8ba8-4797-da00-eb6a846db664"
      },
      "execution_count": null,
      "outputs": [
        {
          "output_type": "execute_result",
          "data": {
            "text/plain": [
              "(480, 10)"
            ]
          },
          "metadata": {},
          "execution_count": 372
        }
      ]
    },
    {
      "cell_type": "code",
      "source": [
        "model=Sequential([\n",
        "    Dense(40,input_shape=(10,),activation=\"relu\"),\n",
        "    Dense(20,activation='selu'),\n",
        "    Dense(2,activation='sigmoid')\n",
        "])"
      ],
      "metadata": {
        "id": "4vjnEFAnsQZ9"
      },
      "execution_count": null,
      "outputs": []
    },
    {
      "cell_type": "code",
      "source": [
        "480/40"
      ],
      "metadata": {
        "colab": {
          "base_uri": "https://localhost:8080/"
        },
        "id": "0yCq9NoryOBD",
        "outputId": "eee3a59f-02b4-416b-f58b-02051e9e6a9e"
      },
      "execution_count": null,
      "outputs": [
        {
          "output_type": "execute_result",
          "data": {
            "text/plain": [
              "12.0"
            ]
          },
          "metadata": {},
          "execution_count": 105
        }
      ]
    },
    {
      "cell_type": "code",
      "source": [
        "model.compile(optimizer=keras.optimizers.Adadelta(learning_rate=0.1),loss='log_cosh',metrics='accuracy')"
      ],
      "metadata": {
        "id": "5R_t9g6es3kA"
      },
      "execution_count": null,
      "outputs": []
    },
    {
      "cell_type": "code",
      "source": [
        "model.fit(x_train,y_train,epochs=10,validation_split=0.2,steps_per_epoch=48)"
      ],
      "metadata": {
        "colab": {
          "base_uri": "https://localhost:8080/"
        },
        "id": "RKnZ4rjGtXjx",
        "outputId": "eb2b68ac-e963-44aa-cc2a-df0e0adcdbf6"
      },
      "execution_count": null,
      "outputs": [
        {
          "output_type": "stream",
          "name": "stdout",
          "text": [
            "Epoch 1/10\n",
            "48/48 [==============================] - 1s 8ms/step - loss: 0.0285 - accuracy: 0.9349 - val_loss: 0.0784 - val_accuracy: 0.7500\n",
            "Epoch 2/10\n",
            "48/48 [==============================] - 0s 5ms/step - loss: 0.0284 - accuracy: 0.9427 - val_loss: 0.0786 - val_accuracy: 0.7396\n",
            "Epoch 3/10\n",
            "48/48 [==============================] - 0s 4ms/step - loss: 0.0284 - accuracy: 0.9427 - val_loss: 0.0785 - val_accuracy: 0.7396\n",
            "Epoch 4/10\n",
            "48/48 [==============================] - 0s 6ms/step - loss: 0.0283 - accuracy: 0.9427 - val_loss: 0.0786 - val_accuracy: 0.7396\n",
            "Epoch 5/10\n",
            "48/48 [==============================] - 0s 5ms/step - loss: 0.0282 - accuracy: 0.9401 - val_loss: 0.0787 - val_accuracy: 0.7396\n",
            "Epoch 6/10\n",
            "48/48 [==============================] - 0s 6ms/step - loss: 0.0281 - accuracy: 0.9427 - val_loss: 0.0785 - val_accuracy: 0.7500\n",
            "Epoch 7/10\n",
            "48/48 [==============================] - 0s 5ms/step - loss: 0.0281 - accuracy: 0.9427 - val_loss: 0.0786 - val_accuracy: 0.7500\n",
            "Epoch 8/10\n",
            "48/48 [==============================] - 0s 6ms/step - loss: 0.0281 - accuracy: 0.9401 - val_loss: 0.0787 - val_accuracy: 0.7396\n",
            "Epoch 9/10\n",
            "48/48 [==============================] - 0s 5ms/step - loss: 0.0280 - accuracy: 0.9427 - val_loss: 0.0788 - val_accuracy: 0.7396\n",
            "Epoch 10/10\n",
            "48/48 [==============================] - 0s 5ms/step - loss: 0.0279 - accuracy: 0.9427 - val_loss: 0.0789 - val_accuracy: 0.7396\n"
          ]
        },
        {
          "output_type": "execute_result",
          "data": {
            "text/plain": [
              "<keras.callbacks.History at 0x7f371376a650>"
            ]
          },
          "metadata": {},
          "execution_count": 557
        }
      ]
    },
    {
      "cell_type": "code",
      "source": [
        "joblib.dump(model,'new84.pkl')"
      ],
      "metadata": {
        "colab": {
          "base_uri": "https://localhost:8080/"
        },
        "id": "ekSQRptR-aol",
        "outputId": "b10298e3-a690-4969-d744-cbd8c621abb4"
      },
      "execution_count": null,
      "outputs": [
        {
          "output_type": "stream",
          "name": "stdout",
          "text": [
            "INFO:tensorflow:Assets written to: ram://45092601-b2da-4b62-b9c2-7a38fe919a5b/assets\n"
          ]
        },
        {
          "output_type": "execute_result",
          "data": {
            "text/plain": [
              "['new84.pkl']"
            ]
          },
          "metadata": {},
          "execution_count": 453
        }
      ]
    },
    {
      "cell_type": "code",
      "source": [
        "pred=model.predict(x_test)"
      ],
      "metadata": {
        "id": "sNWKaIrTwMdM"
      },
      "execution_count": null,
      "outputs": []
    },
    {
      "cell_type": "code",
      "source": [
        "model.evaluate(x_test,y_test)"
      ],
      "metadata": {
        "colab": {
          "base_uri": "https://localhost:8080/"
        },
        "outputId": "df68acb3-cb10-4bed-e91d-54a268e7a25f",
        "id": "-HGg-VN3wMdM"
      },
      "execution_count": null,
      "outputs": [
        {
          "output_type": "stream",
          "name": "stdout",
          "text": [
            "4/4 [==============================] - 0s 4ms/step - loss: 0.0692 - accuracy: 0.8250\n"
          ]
        },
        {
          "output_type": "execute_result",
          "data": {
            "text/plain": [
              "[0.06921011954545975, 0.824999988079071]"
            ]
          },
          "metadata": {},
          "execution_count": 558
        }
      ]
    },
    {
      "cell_type": "code",
      "source": [
        "print(classification_report(np.argmax(y_test,axis=1),np.argmax(pred,axis=1)))"
      ],
      "metadata": {
        "colab": {
          "base_uri": "https://localhost:8080/"
        },
        "id": "ik-z5kn-wnoq",
        "outputId": "f69f9074-9e79-4775-9963-986bf375e1f5"
      },
      "execution_count": null,
      "outputs": [
        {
          "output_type": "stream",
          "name": "stdout",
          "text": [
            "              precision    recall  f1-score   support\n",
            "\n",
            "           0       0.82      0.91      0.86        66\n",
            "           1       0.87      0.76      0.81        54\n",
            "\n",
            "    accuracy                           0.84       120\n",
            "   macro avg       0.85      0.83      0.84       120\n",
            "weighted avg       0.84      0.84      0.84       120\n",
            "\n"
          ]
        }
      ]
    },
    {
      "cell_type": "code",
      "source": [
        "model=joblib.load('new84.pkl')"
      ],
      "metadata": {
        "id": "SadwI7Zc-13J"
      },
      "execution_count": null,
      "outputs": []
    },
    {
      "cell_type": "code",
      "source": [
        "display(np.argmax(y_test,axis=1))"
      ],
      "metadata": {
        "colab": {
          "base_uri": "https://localhost:8080/",
          "height": 121
        },
        "outputId": "84913c76-d824-465c-ae0e-bb59537b0e69",
        "id": "GZJXyzQqwMdN"
      },
      "execution_count": null,
      "outputs": [
        {
          "output_type": "display_data",
          "data": {
            "text/plain": [
              "array([0, 1, 1, 0, 0, 0, 0, 1, 0, 1, 1, 0, 1, 1, 1, 1, 0, 1, 0, 1, 1, 0,\n",
              "       0, 0, 1, 0, 0, 1, 0, 1, 0, 0, 0, 0, 0, 0, 0, 0, 0, 1, 1, 0, 0, 0,\n",
              "       0, 0, 0, 0, 1, 0, 1, 0, 0, 0, 1, 0, 1, 1, 0, 0, 1, 1, 1, 0, 1, 0,\n",
              "       0, 0, 0, 1, 1, 0, 1, 1, 0, 1, 1, 1, 0, 0, 0, 1, 1, 1, 1, 1, 0, 0,\n",
              "       0, 0, 0, 0, 1, 0, 0, 0, 0, 0, 0, 1, 0, 1, 1, 0, 0, 1, 1, 1, 1, 0,\n",
              "       1, 1, 0, 1, 1, 1, 1, 1, 0, 1])"
            ]
          },
          "metadata": {}
        }
      ]
    },
    {
      "cell_type": "code",
      "source": [
        "display(np.argmax(pred,axis=1))"
      ],
      "metadata": {
        "colab": {
          "base_uri": "https://localhost:8080/",
          "height": 121
        },
        "id": "P9orJQ2FwMdN",
        "outputId": "23d5c2c0-2406-4c3f-ca03-aafc728627f2"
      },
      "execution_count": null,
      "outputs": [
        {
          "output_type": "display_data",
          "data": {
            "text/plain": [
              "array([0, 0, 0, 0, 0, 0, 0, 1, 0, 1, 1, 0, 0, 1, 1, 1, 0, 1, 0, 1, 1, 0,\n",
              "       0, 0, 1, 0, 0, 0, 0, 1, 0, 1, 0, 1, 0, 0, 0, 0, 0, 1, 1, 0, 0, 1,\n",
              "       0, 0, 0, 1, 1, 0, 1, 0, 0, 1, 0, 0, 1, 1, 0, 0, 1, 1, 1, 0, 1, 0,\n",
              "       0, 0, 0, 1, 1, 0, 1, 1, 1, 1, 1, 1, 0, 0, 0, 1, 0, 1, 1, 1, 0, 0,\n",
              "       1, 0, 0, 0, 1, 0, 0, 1, 0, 0, 0, 1, 0, 1, 0, 1, 0, 1, 1, 1, 1, 0,\n",
              "       0, 1, 0, 1, 1, 1, 1, 1, 0, 1])"
            ]
          },
          "metadata": {}
        }
      ]
    }
  ]
}